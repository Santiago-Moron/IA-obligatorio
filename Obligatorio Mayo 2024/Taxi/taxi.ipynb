{
 "cells": [
  {
   "cell_type": "markdown",
   "metadata": {},
   "source": [
    "Esta notebook contiene bloques de código útiles para realizar Q-learning en el entorno \"Taxi\""
   ]
  },
  {
   "cell_type": "code",
   "execution_count": null,
   "metadata": {},
   "outputs": [],
   "source": [
    "import numpy as np\n",
    "import random\n",
    "import json\n",
    "from taxi_env_extended import TaxiEnvExtended"
   ]
  },
  {
   "cell_type": "code",
   "execution_count": null,
   "metadata": {},
   "outputs": [],
   "source": [
    "env = TaxiEnvExtended()"
   ]
  },
  {
   "cell_type": "markdown",
   "metadata": {},
   "source": [
    "Obtener la cantidad de estados y acciones"
   ]
  },
  {
   "cell_type": "code",
   "execution_count": null,
   "metadata": {},
   "outputs": [],
   "source": [
    "actions = env.action_space.n\n",
    "states = env.observation_space.n"
   ]
  },
  {
   "cell_type": "markdown",
   "metadata": {},
   "source": [
    "Inicialización de la tabla Q"
   ]
  },
  {
   "cell_type": "code",
   "execution_count": null,
   "metadata": {},
   "outputs": [],
   "source": [
    "Q = np.zeros((states, actions))\n",
    "Q"
   ]
  },
  {
   "cell_type": "markdown",
   "metadata": {},
   "source": [
    "Obtención de la acción a partir de la tabla Q"
   ]
  },
  {
   "cell_type": "code",
   "execution_count": null,
   "metadata": {},
   "outputs": [],
   "source": [
    "def optimal_policy(state, Q):\n",
    "    action = np.argmax(Q[state])\n",
    "    return action"
   ]
  },
  {
   "cell_type": "markdown",
   "metadata": {},
   "source": [
    "Epsilon-Greedy Policy"
   ]
  },
  {
   "cell_type": "code",
   "execution_count": null,
   "metadata": {},
   "outputs": [],
   "source": [
    "def epsilon_greedy_policy(state, Q, epsilon=0.1):\n",
    "    explore = np.random.binomial(1, epsilon)\n",
    "    if explore:\n",
    "        action = env.action_space.sample()\n",
    "    # exploit\n",
    "    else:\n",
    "        action = np.argmax(Q[state])\n",
    "        \n",
    "    return action"
   ]
  },
  {
   "cell_type": "code",
   "execution_count": null,
   "metadata": {},
   "outputs": [],
   "source": [
    "# Probar policy\n",
    "\n",
    "def testPolicy(Q, env):\n",
    "    obs, _ = env.reset()\n",
    "    done = False\n",
    "    totalReward = 0\n",
    "    while not done:\n",
    "        env.render()\n",
    "        state = obs\n",
    "        action = optimal_policy(state, Q)\n",
    "        obs, reward, done, _, _ = env.step(action)\n",
    "        totalReward += reward\n",
    "    env.render()\n",
    "    wandb.log({'test_reward_by_episode': totalReward, 'episode': \"trial\"})\n",
    "    return totalReward\n"
   ]
  },
  {
   "cell_type": "code",
   "execution_count": null,
   "metadata": {},
   "outputs": [],
   "source": [
    "# Chequeo de la política óptima\n",
    "# Total reward / cantidad de episodios. Reward promedio de policy.\n",
    "#Wandb: Sweeps\n",
    "\n",
    "# Testear la política 100 veces\n",
    "\n",
    "import wandb\n",
    "from wandb.sklearn import plot_precision_recall, plot_feature_importances\n",
    "from wandb.sklearn import plot_class_proportions, plot_learning_curve, plot_roc\n",
    "def getAverageTestingReward(Q, env):\n",
    "    rewards = []\n",
    "    for i in range(100):\n",
    "        reward = testPolicy(Q, env)\n",
    "        print(reward)\n",
    "        rewards.append(reward)\n",
    "    print(np.mean(rewards))     #Promedio de la recompensa total de cada episodio\n",
    "    return np.mean(rewards) \n"
   ]
  },
  {
   "cell_type": "code",
   "execution_count": null,
   "metadata": {},
   "outputs": [],
   "source": [
    "import wandb\n",
    "from wandb.sklearn import plot_precision_recall, plot_feature_importances\n",
    "from wandb.sklearn import plot_class_proportions, plot_learning_curve, plot_roc\n",
    "\n",
    "def train_policy():\n",
    "    try:\n",
    "        with wandb.init() as run:\n",
    "            config = run.config\n",
    "            alpha = config.alpha\n",
    "            gamma = config.gamma\n",
    "            epsilon = config.epsilon\n",
    "            epsilon_variability = config.epsilonVariability\n",
    "            episodes = config.episodes\n",
    "\n",
    "            env = TaxiEnvExtended()\n",
    "            Q = np.zeros([env.observation_space.n, env.action_space.n])\n",
    "\n",
    "            total_rewards = []\n",
    "\n",
    "            for episode in range(episodes):\n",
    "                obs, _ = env.reset()\n",
    "                done = False\n",
    "                total_reward = 0\n",
    "                step_count = 0\n",
    "\n",
    "                while not done:\n",
    "                    state = obs\n",
    "                    epsilon = max(epsilon - epsilon_variability * epsilon, 0)  # Decay epsilon\n",
    "                    action = epsilon_greedy_policy(state, Q, epsilon)\n",
    "                    obs, reward, done, _, _ = env.step(action)\n",
    "                    Q[state, action] = Q[state, action] + alpha * (reward + gamma * np.max(Q[obs]) - Q[state, action])\n",
    "                    total_reward += reward\n",
    "                    step_count += 1\n",
    "\n",
    "                total_rewards.append(total_reward)\n",
    "                wandb.log({'train_reward_by_episode': total_reward, 'episode': episode, 'train_avg_reward': np.mean(total_rewards)})\n",
    "\n",
    "            test_average_reward = getAverageTestingReward(Q, env)\n",
    "            wandb.log({'test_avg_reward': test_average_reward})\n",
    "            # Guardar hiperparámetros y resultados como artefacto\n",
    "            hyperparameters = {\n",
    "                'alpha': alpha,\n",
    "                'gamma': gamma,\n",
    "                'epsilon': epsilon,\n",
    "                'epsilonVariability': epsilon_variability,\n",
    "                'episodes': episodes,\n",
    "                'train_avg_reward': np.mean(total_rewards),\n",
    "                'test_avg__reward': test_average_reward\n",
    "            }\n",
    "            \n",
    "            with open('hyperparameters.json', 'w') as f:\n",
    "                json.dump(hyperparameters, f)\n",
    "\n",
    "            artifact = wandb.Artifact('hyperparameters', type='hyperparameters')\n",
    "            artifact.add_file('hyperparameters.json')\n",
    "            run.log_artifact(artifact)\n",
    "\n",
    "\n",
    "    except Exception as e:\n",
    "        print(f\"An error occurred: {e}\")\n",
    "    finally:\n",
    "        wandb.finish()\n"
   ]
  },
  {
   "cell_type": "code",
   "execution_count": null,
   "metadata": {},
   "outputs": [],
   "source": [
    "import wandb\n",
    "\n",
    "# Configuración del sweep\n",
    "sweep_configuration = {\n",
    "    \"method\": \"random\",\n",
    "    \"metric\": {\"goal\": \"maximize\", \"name\": 'avg_total_reward'},\n",
    "    \"parameters\": {\n",
    "        \"episodes\": {\"max\": 10000, \"min\": 9999},\n",
    "        \"alpha\": {\"max\": 0.99, \"min\": 0.5},\n",
    "        \"gamma\": {\"max\": 0.8, \"min\": 0.3},\n",
    "        \"epsilon\": {\"max\": 0.8, \"min\": 0.1},\n",
    "        \"epsilonVariability\": {\"max\": 0.5, \"min\": 0.35}\n",
    "    },\n",
    "}\n",
    "\n",
    "sweep_id = wandb.sweep(sweep=sweep_configuration, project=\"taxi-sweep\")\n",
    "wandb.agent(sweep_id, function=train_policy)"
   ]
  },
  {
   "cell_type": "markdown",
   "metadata": {},
   "source": [
    "Pruebo ciertos hiperparámetros en específico luego de Sweep:"
   ]
  },
  {
   "cell_type": "code",
   "execution_count": null,
   "metadata": {},
   "outputs": [],
   "source": [
    "import wandb\n",
    "from wandb.sklearn import plot_precision_recall, plot_feature_importances\n",
    "from wandb.sklearn import plot_class_proportions, plot_learning_curve, plot_roc\n",
    "\n",
    "def train_finalPolicy():\n",
    "    try:\n",
    "            alpha = 0.8894046109188853\n",
    "            gamma = 0.5333435999129466\n",
    "            epsilon = 0.7391381811833376\n",
    "            epsilon_variability = 0.4889625280062114\n",
    "            episodes = 10000\n",
    "\n",
    "            env = TaxiEnvExtended()\n",
    "            Q = np.zeros([env.observation_space.n, env.action_space.n])\n",
    "\n",
    "            total_rewards = []\n",
    "\n",
    "            for episode in range(episodes):\n",
    "                obs, _ = env.reset()\n",
    "                done = False\n",
    "                total_reward = 0\n",
    "                step_count = 0\n",
    "\n",
    "                while not done:\n",
    "                    state = obs\n",
    "                    epsilon = max(epsilon - epsilon_variability * epsilon, 0)  # Decay epsilon\n",
    "                    action = epsilon_greedy_policy(state, Q, epsilon)\n",
    "                    obs, reward, done, _, _ = env.step(action)\n",
    "                    Q[state, action] = Q[state, action] + alpha * (reward + gamma * np.max(Q[obs]) - Q[state, action])\n",
    "                    total_reward += reward\n",
    "                    step_count += 1\n",
    "\n",
    "                total_rewards.append(total_reward)\n",
    "                print(f\"Episode {episode} - Total reward: {total_reward}, avg_total_reward: {np.mean(total_rewards)}\")\n",
    "            return Q\n",
    "\n",
    "\n",
    "    except Exception as e:\n",
    "        print(f\"An error occurred: {e}\")\n",
    "\n",
    "\n"
   ]
  },
  {
   "cell_type": "code",
   "execution_count": null,
   "metadata": {},
   "outputs": [],
   "source": [
    "Q = train_finalPolicy()"
   ]
  }
 ],
 "metadata": {
  "kernelspec": {
   "display_name": "Python 3",
   "language": "python",
   "name": "python3"
  },
  "language_info": {
   "codemirror_mode": {
    "name": "ipython",
    "version": 3
   },
   "file_extension": ".py",
   "mimetype": "text/x-python",
   "name": "python",
   "nbconvert_exporter": "python",
   "pygments_lexer": "ipython3",
   "version": "3.12.2"
  },
  "orig_nbformat": 4
 },
 "nbformat": 4,
 "nbformat_minor": 2
}
