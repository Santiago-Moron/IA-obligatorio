{
 "cells": [
  {
   "cell_type": "markdown",
   "metadata": {},
   "source": [
    "Esta notebook contiene bloques de código útiles para realizar Q-learning en el entorno \"Taxi\""
   ]
  },
  {
   "cell_type": "code",
   "execution_count": 90,
   "metadata": {},
   "outputs": [],
   "source": [
    "import numpy as np\n",
    "import random\n",
    "import json\n",
    "from taxi_env_extended import TaxiEnvExtended"
   ]
  },
  {
   "cell_type": "code",
   "execution_count": 91,
   "metadata": {},
   "outputs": [
    {
     "name": "stdout",
     "output_type": "stream",
     "text": [
      "Collecting pandas\n",
      "  Downloading pandas-2.2.2-cp39-cp39-win_amd64.whl.metadata (19 kB)\n",
      "Requirement already satisfied: numpy>=1.22.4 in c:\\users\\maria\\anaconda3\\envs\\myenv\\lib\\site-packages (from pandas) (1.26.4)\n",
      "Requirement already satisfied: python-dateutil>=2.8.2 in c:\\users\\maria\\anaconda3\\envs\\myenv\\lib\\site-packages (from pandas) (2.9.0.post0)\n",
      "Collecting pytz>=2020.1 (from pandas)\n",
      "  Downloading pytz-2024.1-py2.py3-none-any.whl.metadata (22 kB)\n",
      "Collecting tzdata>=2022.7 (from pandas)\n",
      "  Downloading tzdata-2024.1-py2.py3-none-any.whl.metadata (1.4 kB)\n",
      "Requirement already satisfied: six>=1.5 in c:\\users\\maria\\anaconda3\\envs\\myenv\\lib\\site-packages (from python-dateutil>=2.8.2->pandas) (1.16.0)\n",
      "Downloading pandas-2.2.2-cp39-cp39-win_amd64.whl (11.6 MB)\n",
      "   ---------------------------------------- 0.0/11.6 MB ? eta -:--:--\n",
      "   ---------------------------------------- 0.0/11.6 MB 991.0 kB/s eta 0:00:12\n",
      "   ---------------------------------------- 0.1/11.6 MB 1.5 MB/s eta 0:00:08\n",
      "   ---------------------------------------- 0.1/11.6 MB 1.5 MB/s eta 0:00:08\n",
      "   - -------------------------------------- 0.3/11.6 MB 2.0 MB/s eta 0:00:06\n",
      "   - -------------------------------------- 0.5/11.6 MB 2.8 MB/s eta 0:00:04\n",
      "   ---- ----------------------------------- 1.4/11.6 MB 6.1 MB/s eta 0:00:02\n",
      "   ------ --------------------------------- 2.0/11.6 MB 8.1 MB/s eta 0:00:02\n",
      "   ------ --------------------------------- 2.0/11.6 MB 8.1 MB/s eta 0:00:02\n",
      "   --------- ------------------------------ 2.8/11.6 MB 8.1 MB/s eta 0:00:02\n",
      "   ----------- ---------------------------- 3.2/11.6 MB 9.0 MB/s eta 0:00:01\n",
      "   ------------ --------------------------- 3.8/11.6 MB 9.2 MB/s eta 0:00:01\n",
      "   -------------- ------------------------- 4.1/11.6 MB 9.8 MB/s eta 0:00:01\n",
      "   -------------- ------------------------- 4.3/11.6 MB 8.9 MB/s eta 0:00:01\n",
      "   ---------------- ----------------------- 4.9/11.6 MB 9.1 MB/s eta 0:00:01\n",
      "   ---------------- ----------------------- 4.9/11.6 MB 9.1 MB/s eta 0:00:01\n",
      "   -------------------- ------------------- 5.8/11.6 MB 9.8 MB/s eta 0:00:01\n",
      "   -------------------- ------------------- 5.8/11.6 MB 9.8 MB/s eta 0:00:01\n",
      "   --------------------- ------------------ 6.4/11.6 MB 9.5 MB/s eta 0:00:01\n",
      "   ------------------------ --------------- 7.1/11.6 MB 9.8 MB/s eta 0:00:01\n",
      "   --------------------------- ------------ 7.9/11.6 MB 10.5 MB/s eta 0:00:01\n",
      "   --------------------------- ------------ 7.9/11.6 MB 10.5 MB/s eta 0:00:01\n",
      "   ---------------------------- ----------- 8.3/11.6 MB 10.0 MB/s eta 0:00:01\n",
      "   -------------------------------- ------- 9.4/11.6 MB 10.7 MB/s eta 0:00:01\n",
      "   ------------------------------------ --- 10.7/11.6 MB 13.9 MB/s eta 0:00:01\n",
      "   ---------------------------------------  11.6/11.6 MB 14.6 MB/s eta 0:00:01\n",
      "   ---------------------------------------  11.6/11.6 MB 14.6 MB/s eta 0:00:01\n",
      "   ---------------------------------------  11.6/11.6 MB 14.6 MB/s eta 0:00:01\n",
      "   ---------------------------------------- 11.6/11.6 MB 12.6 MB/s eta 0:00:00\n",
      "Downloading pytz-2024.1-py2.py3-none-any.whl (505 kB)\n",
      "   ---------------------------------------- 0.0/505.5 kB ? eta -:--:--\n",
      "   ---------------------------------------  501.8/505.5 kB ? eta -:--:--\n",
      "   ---------------------------------------- 505.5/505.5 kB 8.0 MB/s eta 0:00:00\n",
      "Downloading tzdata-2024.1-py2.py3-none-any.whl (345 kB)\n",
      "   ---------------------------------------- 0.0/345.4 kB ? eta -:--:--\n",
      "   --------------------------------------- 345.4/345.4 kB 22.3 MB/s eta 0:00:00\n",
      "Installing collected packages: pytz, tzdata, pandas\n",
      "Successfully installed pandas-2.2.2 pytz-2024.1 tzdata-2024.1\n",
      "Note: you may need to restart the kernel to use updated packages.\n"
     ]
    }
   ],
   "source": [
    "%pip install pandas"
   ]
  },
  {
   "cell_type": "code",
   "execution_count": 92,
   "metadata": {},
   "outputs": [],
   "source": [
    "env = TaxiEnvExtended()"
   ]
  },
  {
   "cell_type": "markdown",
   "metadata": {},
   "source": [
    "Obtener la cantidad de estados y acciones"
   ]
  },
  {
   "cell_type": "code",
   "execution_count": 93,
   "metadata": {},
   "outputs": [],
   "source": [
    "actions = env.action_space.n\n",
    "states = env.observation_space.n"
   ]
  },
  {
   "cell_type": "markdown",
   "metadata": {},
   "source": [
    "Inicialización de la tabla Q"
   ]
  },
  {
   "cell_type": "code",
   "execution_count": 94,
   "metadata": {},
   "outputs": [
    {
     "data": {
      "text/plain": [
       "array([[0., 0., 0., 0., 0., 0.],\n",
       "       [0., 0., 0., 0., 0., 0.],\n",
       "       [0., 0., 0., 0., 0., 0.],\n",
       "       ...,\n",
       "       [0., 0., 0., 0., 0., 0.],\n",
       "       [0., 0., 0., 0., 0., 0.],\n",
       "       [0., 0., 0., 0., 0., 0.]])"
      ]
     },
     "execution_count": 94,
     "metadata": {},
     "output_type": "execute_result"
    }
   ],
   "source": [
    "Q = np.zeros((states, actions))\n",
    "Q"
   ]
  },
  {
   "cell_type": "markdown",
   "metadata": {},
   "source": [
    "Obtención de la acción a partir de la tabla Q"
   ]
  },
  {
   "cell_type": "code",
   "execution_count": 95,
   "metadata": {},
   "outputs": [],
   "source": [
    "def optimal_policy(state, Q):\n",
    "    action = np.argmax(Q[state])\n",
    "    return action"
   ]
  },
  {
   "cell_type": "markdown",
   "metadata": {},
   "source": [
    "Epsilon-Greedy Policy"
   ]
  },
  {
   "cell_type": "code",
   "execution_count": 96,
   "metadata": {},
   "outputs": [],
   "source": [
    "def epsilon_greedy_policy(state, Q, epsilon=0.1):\n",
    "    explore = np.random.binomial(1, epsilon)\n",
    "    if explore:\n",
    "        action = env.action_space.sample()\n",
    "    # exploit\n",
    "    else:\n",
    "        action = np.argmax(Q[state])\n",
    "        \n",
    "    return action"
   ]
  },
  {
   "cell_type": "code",
   "execution_count": 97,
   "metadata": {},
   "outputs": [],
   "source": [
    "# Probar policy\n",
    "\n",
    "def testPolicy(Q, env):\n",
    "    obs, _ = env.reset()\n",
    "    done = False\n",
    "    totalReward = 0\n",
    "    while not done:\n",
    "        env.render()\n",
    "        state = obs\n",
    "        action = optimal_policy(state, Q)\n",
    "        obs, reward, done, _, _ = env.step(action)\n",
    "        totalReward += reward\n",
    "    env.render()\n",
    "    wandb.log({'test_reward_by_episode': totalReward, 'episode': \"trial\"})\n",
    "    return totalReward\n"
   ]
  },
  {
   "cell_type": "code",
   "execution_count": 98,
   "metadata": {},
   "outputs": [],
   "source": [
    "# Chequeo de la política óptima\n",
    "# Total reward / cantidad de episodios. Reward promedio de policy.\n",
    "#Wandb: Sweeps\n",
    "\n",
    "# Testear la política 100 veces\n",
    "\n",
    "import wandb\n",
    "from wandb.sklearn import plot_precision_recall, plot_feature_importances\n",
    "from wandb.sklearn import plot_class_proportions, plot_learning_curve, plot_roc\n",
    "def getAverageTestingReward(Q, env):\n",
    "    rewards = []\n",
    "    for i in range(100):\n",
    "        reward = testPolicy(Q, env)\n",
    "        print(reward)\n",
    "        rewards.append(reward)\n",
    "    print(np.mean(rewards))     #Promedio de la recompensa total de cada episodio\n",
    "    return np.mean(rewards) \n"
   ]
  },
  {
   "cell_type": "code",
   "execution_count": 99,
   "metadata": {},
   "outputs": [],
   "source": [
    "import wandb\n",
    "from wandb.sklearn import plot_precision_recall, plot_feature_importances\n",
    "from wandb.sklearn import plot_class_proportions, plot_learning_curve, plot_roc\n",
    "\n",
    "def train_policy():\n",
    "    try:\n",
    "        with wandb.init() as run:\n",
    "            config = run.config\n",
    "            alpha = config.alpha\n",
    "            gamma = config.gamma\n",
    "            epsilon = config.epsilon\n",
    "            epsilon_variability = config.epsilonVariability\n",
    "            episodes = config.episodes\n",
    "\n",
    "            env = TaxiEnvExtended()\n",
    "            Q = np.zeros([env.observation_space.n, env.action_space.n])\n",
    "\n",
    "            total_rewards = []\n",
    "\n",
    "            for episode in range(episodes):\n",
    "                obs, _ = env.reset()\n",
    "                done = False\n",
    "                total_reward = 0\n",
    "                step_count = 0\n",
    "\n",
    "                while not done:\n",
    "                    state = obs\n",
    "                    epsilon = max(epsilon - epsilon_variability * epsilon, 0)  # Decay epsilon\n",
    "                    action = epsilon_greedy_policy(state, Q, epsilon)\n",
    "                    obs, reward, done, _, _ = env.step(action)\n",
    "                    Q[state, action] = Q[state, action] + alpha * (reward + gamma * np.max(Q[obs]) - Q[state, action])\n",
    "                    total_reward += reward\n",
    "                    step_count += 1\n",
    "\n",
    "                total_rewards.append(total_reward)\n",
    "                wandb.log({'train_reward_by_episode': total_reward, 'episode': episode, 'train_avg_reward': np.mean(total_rewards)})\n",
    "\n",
    "            test_average_reward = getAverageTestingReward(Q, env)\n",
    "            wandb.log({'test_avg_reward': test_average_reward})\n",
    "            # Guardar hiperparámetros y resultados como artefacto\n",
    "            hyperparameters = {\n",
    "                'alpha': alpha,\n",
    "                'gamma': gamma,\n",
    "                'epsilon': epsilon,\n",
    "                'epsilonVariability': epsilon_variability,\n",
    "                'episodes': episodes,\n",
    "                'train_avg_reward': np.mean(total_rewards),\n",
    "                'test_avg__reward': test_average_reward\n",
    "            }\n",
    "            \n",
    "            with open('hyperparameters.json', 'w') as f:\n",
    "                json.dump(hyperparameters, f)\n",
    "\n",
    "            artifact = wandb.Artifact('hyperparameters', type='hyperparameters')\n",
    "            artifact.add_file('hyperparameters.json')\n",
    "            run.log_artifact(artifact)\n",
    "\n",
    "\n",
    "    except Exception as e:\n",
    "        print(f\"An error occurred: {e}\")\n",
    "    finally:\n",
    "        wandb.finish()\n"
   ]
  },
  {
   "cell_type": "code",
   "execution_count": 100,
   "metadata": {},
   "outputs": [
    {
     "name": "stderr",
     "output_type": "stream",
     "text": [
      "Failed to detect the name of this notebook, you can set it manually with the WANDB_NOTEBOOK_NAME environment variable to enable code saving.\n",
      "\u001b[34m\u001b[1mwandb\u001b[0m: Logging into wandb.ai. (Learn how to deploy a W&B server locally: https://wandb.me/wandb-server)\n",
      "\u001b[34m\u001b[1mwandb\u001b[0m: You can find your API key in your browser here: https://wandb.ai/authorize\n",
      "\u001b[34m\u001b[1mwandb\u001b[0m: Paste an API key from your profile and hit enter, or press ctrl+c to quit:"
     ]
    }
   ],
   "source": [
    "import wandb\n",
    "\n",
    "# Configuración del sweep\n",
    "sweep_configuration = {\n",
    "    \"method\": \"random\",\n",
    "    \"metric\": {\"goal\": \"maximize\", \"name\": 'avg_total_reward'},\n",
    "    \"parameters\": {\n",
    "        \"episodes\": {\"max\": 10000, \"min\": 9999},\n",
    "        \"alpha\": {\"max\": 0.99, \"min\": 0.5},\n",
    "        \"gamma\": {\"max\": 0.8, \"min\": 0.3},\n",
    "        \"epsilon\": {\"max\": 0.8, \"min\": 0.1},\n",
    "        \"epsilonVariability\": {\"max\": 0.5, \"min\": 0.35}\n",
    "    },\n",
    "}\n",
    "\n",
    "sweep_id = wandb.sweep(sweep=sweep_configuration, project=\"taxi-sweep\")\n",
    "wandb.agent(sweep_id, function=train_policy)"
   ]
  },
  {
   "cell_type": "markdown",
   "metadata": {},
   "source": [
    "Pruebo ciertos hiperparámetros en específico luego de Sweep:"
   ]
  },
  {
   "cell_type": "code",
   "execution_count": null,
   "metadata": {},
   "outputs": [],
   "source": [
    "import wandb\n",
    "from wandb.sklearn import plot_precision_recall, plot_feature_importances\n",
    "from wandb.sklearn import plot_class_proportions, plot_learning_curve, plot_roc\n",
    "\n",
    "def train_finalPolicy():\n",
    "    try:\n",
    "            alpha = 0.8894046109188853\n",
    "            gamma = 0.5333435999129466\n",
    "            epsilon = 0.7391381811833376\n",
    "            epsilon_variability = 0.4889625280062114\n",
    "            episodes = 10000\n",
    "\n",
    "            env = TaxiEnvExtended()\n",
    "            Q = np.zeros([env.observation_space.n, env.action_space.n])\n",
    "\n",
    "            total_rewards = []\n",
    "\n",
    "            for episode in range(episodes):\n",
    "                obs, _ = env.reset()\n",
    "                done = False\n",
    "                total_reward = 0\n",
    "                step_count = 0\n",
    "\n",
    "                while not done:\n",
    "                    state = obs\n",
    "                    epsilon = max(epsilon - epsilon_variability * epsilon, 0)  # Decay epsilon\n",
    "                    action = epsilon_greedy_policy(state, Q, epsilon)\n",
    "                    obs, reward, done, _, _ = env.step(action)\n",
    "                    Q[state, action] = Q[state, action] + alpha * (reward + gamma * np.max(Q[obs]) - Q[state, action])\n",
    "                    total_reward += reward\n",
    "                    step_count += 1\n",
    "\n",
    "                total_rewards.append(total_reward)\n",
    "                print(f\"Episode {episode} - Total reward: {total_reward}, avg_total_reward: {np.mean(total_rewards)}\")\n",
    "            return Q\n",
    "\n",
    "\n",
    "    except Exception as e:\n",
    "        print(f\"An error occurred: {e}\")\n",
    "\n",
    "\n"
   ]
  },
  {
   "cell_type": "code",
   "execution_count": null,
   "metadata": {},
   "outputs": [],
   "source": [
    "Q = train_finalPolicy()"
   ]
  }
 ],
 "metadata": {
  "kernelspec": {
   "display_name": "Python 3",
   "language": "python",
   "name": "python3"
  },
  "language_info": {
   "codemirror_mode": {
    "name": "ipython",
    "version": 3
   },
   "file_extension": ".py",
   "mimetype": "text/x-python",
   "name": "python",
   "nbconvert_exporter": "python",
   "pygments_lexer": "ipython3",
   "version": "3.12.2"
  },
  "orig_nbformat": 4
 },
 "nbformat": 4,
 "nbformat_minor": 2
}
