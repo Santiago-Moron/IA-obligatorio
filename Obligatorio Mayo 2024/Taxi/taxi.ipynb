{
 "cells": [
  {
   "cell_type": "markdown",
   "metadata": {},
   "source": [
    "Esta notebook contiene bloques de código útiles para realizar Q-learning en el entorno \"Taxi\""
   ]
  },
  {
   "cell_type": "code",
   "execution_count": 18,
   "metadata": {},
   "outputs": [],
   "source": [
    "import numpy as np\n",
    "import random\n",
    "from taxi_env_extended import TaxiEnvExtended"
   ]
  },
  {
   "cell_type": "code",
   "execution_count": 19,
   "metadata": {},
   "outputs": [],
   "source": [
    "env = TaxiEnvExtended()"
   ]
  },
  {
   "cell_type": "markdown",
   "metadata": {},
   "source": [
    "Obtener la cantidad de estados y acciones"
   ]
  },
  {
   "cell_type": "code",
   "execution_count": 20,
   "metadata": {},
   "outputs": [],
   "source": [
    "actions = env.action_space.n\n",
    "states = env.observation_space.n"
   ]
  },
  {
   "cell_type": "markdown",
   "metadata": {},
   "source": [
    "Inicialización de la tabla Q"
   ]
  },
  {
   "cell_type": "code",
   "execution_count": 21,
   "metadata": {},
   "outputs": [
    {
     "data": {
      "text/plain": [
       "array([[0., 0., 0., 0., 0., 0.],\n",
       "       [0., 0., 0., 0., 0., 0.],\n",
       "       [0., 0., 0., 0., 0., 0.],\n",
       "       ...,\n",
       "       [0., 0., 0., 0., 0., 0.],\n",
       "       [0., 0., 0., 0., 0., 0.],\n",
       "       [0., 0., 0., 0., 0., 0.]])"
      ]
     },
     "execution_count": 21,
     "metadata": {},
     "output_type": "execute_result"
    }
   ],
   "source": [
    "Q = np.zeros((states, actions))\n",
    "Q"
   ]
  },
  {
   "cell_type": "markdown",
   "metadata": {},
   "source": [
    "Obtención de la acción a partir de la tabla Q"
   ]
  },
  {
   "cell_type": "code",
   "execution_count": 22,
   "metadata": {},
   "outputs": [],
   "source": [
    "def optimal_policy(state, Q):\n",
    "    action = np.argmax(Q[state])\n",
    "    return action"
   ]
  },
  {
   "cell_type": "markdown",
   "metadata": {},
   "source": [
    "Epsilon-Greedy Policy"
   ]
  },
  {
   "cell_type": "code",
   "execution_count": 23,
   "metadata": {},
   "outputs": [],
   "source": [
    "def epsilon_greedy_policy(state, Q, epsilon=0.1):\n",
    "    explore = np.random.binomial(1, epsilon)\n",
    "    if explore:\n",
    "        action = env.action_space.sample()\n",
    "    # exploit\n",
    "    else:\n",
    "        action = np.argmax(Q[state])\n",
    "        \n",
    "    return action"
   ]
  },
  {
   "cell_type": "markdown",
   "metadata": {},
   "source": [
    "Ejemplo de episodio "
   ]
  },
  {
   "cell_type": "code",
   "execution_count": 25,
   "metadata": {},
   "outputs": [],
   "source": [
    "import wandb\n",
    "from wandb.sklearn import plot_precision_recall, plot_feature_importances\n",
    "from wandb.sklearn import plot_class_proportions, plot_learning_curve, plot_roc\n",
    "\n",
    "def trainPolicy(Q, env, episodes=1000, alpha=0.1, gamma=0.9, epsilon=0.1):\n",
    "    wandb.init(project='taxi')\n",
    "    for episode in range(episodes):\n",
    "        obs, _ = env.reset()\n",
    "        done = False\n",
    "        total_reward = 0\n",
    "        step_count = 0\n",
    "        while not done:\n",
    "            state = obs\n",
    "            action = epsilon_greedy_policy(state, Q, epsilon)\n",
    "            obs, reward, done, _, _ = env.step(action)\n",
    "            Q[state, action] = Q[state, action] + alpha * (reward + gamma * np.max(Q[obs]) - Q[state, action])\n",
    "            total_reward += reward\n",
    "            step_count += 1\n",
    "        wandb.log({'reward': total_reward, 'episode': \"trial\"})\n",
    "    print('total_reward', total_reward)\n",
    "    print('total_steps', step_count)\n",
    "    return Q\n",
    "\n"
   ]
  },
  {
   "cell_type": "code",
   "execution_count": 29,
   "metadata": {},
   "outputs": [
    {
     "ename": "ValueError",
     "evalue": "You must pass an instance of wandb.Artifact or a valid file path to log_artifact",
     "output_type": "error",
     "traceback": [
      "\u001b[1;31m---------------------------------------------------------------------------\u001b[0m",
      "\u001b[1;31mValueError\u001b[0m                                Traceback (most recent call last)",
      "Cell \u001b[1;32mIn[29], line 4\u001b[0m\n\u001b[0;32m      2\u001b[0m gamma \u001b[38;5;241m=\u001b[39m \u001b[38;5;241m0.6\u001b[39m\n\u001b[0;32m      3\u001b[0m epsilon \u001b[38;5;241m=\u001b[39m \u001b[38;5;241m0.6\u001b[39m\n\u001b[1;32m----> 4\u001b[0m wandb\u001b[38;5;241m.\u001b[39mlog_artifact({\u001b[38;5;124m'\u001b[39m\u001b[38;5;124malfa\u001b[39m\u001b[38;5;124m'\u001b[39m: alfa, \u001b[38;5;124m'\u001b[39m\u001b[38;5;124mepisode\u001b[39m\u001b[38;5;124m'\u001b[39m: \u001b[38;5;124m\"\u001b[39m\u001b[38;5;124mtrial\u001b[39m\u001b[38;5;124m\"\u001b[39m})\n\u001b[0;32m      5\u001b[0m wandb\u001b[38;5;241m.\u001b[39mlog_artifact({\u001b[38;5;124m'\u001b[39m\u001b[38;5;124mgamma\u001b[39m\u001b[38;5;124m'\u001b[39m: gamma, \u001b[38;5;124m'\u001b[39m\u001b[38;5;124mepisode\u001b[39m\u001b[38;5;124m'\u001b[39m: \u001b[38;5;124m\"\u001b[39m\u001b[38;5;124mtrial\u001b[39m\u001b[38;5;124m\"\u001b[39m})\n\u001b[0;32m      6\u001b[0m wandb\u001b[38;5;241m.\u001b[39mlog_artifact({\u001b[38;5;124m'\u001b[39m\u001b[38;5;124mepsilon\u001b[39m\u001b[38;5;124m'\u001b[39m: epsilon, \u001b[38;5;124m'\u001b[39m\u001b[38;5;124mepisode\u001b[39m\u001b[38;5;124m'\u001b[39m: \u001b[38;5;124m\"\u001b[39m\u001b[38;5;124mtrial\u001b[39m\u001b[38;5;124m\"\u001b[39m})\n",
      "File \u001b[1;32mc:\\Users\\santi\\anaconda3\\envs\\gym\\Lib\\site-packages\\wandb\\sdk\\wandb_run.py:400\u001b[0m, in \u001b[0;36m_run_decorator._noop_on_finish.<locals>.decorator_fn.<locals>.wrapper_fn\u001b[1;34m(self, *args, **kwargs)\u001b[0m\n\u001b[0;32m    397\u001b[0m \u001b[38;5;129m@functools\u001b[39m\u001b[38;5;241m.\u001b[39mwraps(func)\n\u001b[0;32m    398\u001b[0m \u001b[38;5;28;01mdef\u001b[39;00m \u001b[38;5;21mwrapper_fn\u001b[39m(\u001b[38;5;28mself\u001b[39m: Type[\u001b[38;5;124m\"\u001b[39m\u001b[38;5;124mRun\u001b[39m\u001b[38;5;124m\"\u001b[39m], \u001b[38;5;241m*\u001b[39margs: Any, \u001b[38;5;241m*\u001b[39m\u001b[38;5;241m*\u001b[39mkwargs: Any) \u001b[38;5;241m-\u001b[39m\u001b[38;5;241m>\u001b[39m Any:\n\u001b[0;32m    399\u001b[0m     \u001b[38;5;28;01mif\u001b[39;00m \u001b[38;5;129;01mnot\u001b[39;00m \u001b[38;5;28mgetattr\u001b[39m(\u001b[38;5;28mself\u001b[39m, \u001b[38;5;124m\"\u001b[39m\u001b[38;5;124m_is_finished\u001b[39m\u001b[38;5;124m\"\u001b[39m, \u001b[38;5;28;01mFalse\u001b[39;00m):\n\u001b[1;32m--> 400\u001b[0m         \u001b[38;5;28;01mreturn\u001b[39;00m func(\u001b[38;5;28mself\u001b[39m, \u001b[38;5;241m*\u001b[39margs, \u001b[38;5;241m*\u001b[39m\u001b[38;5;241m*\u001b[39mkwargs)\n\u001b[0;32m    402\u001b[0m     default_message \u001b[38;5;241m=\u001b[39m (\n\u001b[0;32m    403\u001b[0m         \u001b[38;5;124mf\u001b[39m\u001b[38;5;124m\"\u001b[39m\u001b[38;5;124mRun (\u001b[39m\u001b[38;5;132;01m{\u001b[39;00m\u001b[38;5;28mself\u001b[39m\u001b[38;5;241m.\u001b[39mid\u001b[38;5;132;01m}\u001b[39;00m\u001b[38;5;124m) is finished. The call to `\u001b[39m\u001b[38;5;132;01m{\u001b[39;00mfunc\u001b[38;5;241m.\u001b[39m\u001b[38;5;18m__name__\u001b[39m\u001b[38;5;132;01m}\u001b[39;00m\u001b[38;5;124m` will be ignored. \u001b[39m\u001b[38;5;124m\"\u001b[39m\n\u001b[0;32m    404\u001b[0m         \u001b[38;5;124mf\u001b[39m\u001b[38;5;124m\"\u001b[39m\u001b[38;5;124mPlease make sure that you are using an active run.\u001b[39m\u001b[38;5;124m\"\u001b[39m\n\u001b[0;32m    405\u001b[0m     )\n\u001b[0;32m    406\u001b[0m     resolved_message \u001b[38;5;241m=\u001b[39m message \u001b[38;5;129;01mor\u001b[39;00m default_message\n",
      "File \u001b[1;32mc:\\Users\\santi\\anaconda3\\envs\\gym\\Lib\\site-packages\\wandb\\sdk\\wandb_run.py:390\u001b[0m, in \u001b[0;36m_run_decorator._attach.<locals>.wrapper\u001b[1;34m(self, *args, **kwargs)\u001b[0m\n\u001b[0;32m    388\u001b[0m         \u001b[38;5;28;01mraise\u001b[39;00m e\n\u001b[0;32m    389\u001b[0m     \u001b[38;5;28mcls\u001b[39m\u001b[38;5;241m.\u001b[39m_is_attaching \u001b[38;5;241m=\u001b[39m \u001b[38;5;124m\"\u001b[39m\u001b[38;5;124m\"\u001b[39m\n\u001b[1;32m--> 390\u001b[0m \u001b[38;5;28;01mreturn\u001b[39;00m func(\u001b[38;5;28mself\u001b[39m, \u001b[38;5;241m*\u001b[39margs, \u001b[38;5;241m*\u001b[39m\u001b[38;5;241m*\u001b[39mkwargs)\n",
      "File \u001b[1;32mc:\\Users\\santi\\anaconda3\\envs\\gym\\Lib\\site-packages\\wandb\\sdk\\wandb_run.py:3030\u001b[0m, in \u001b[0;36mRun.log_artifact\u001b[1;34m(self, artifact_or_path, name, type, aliases)\u001b[0m\n\u001b[0;32m   2997\u001b[0m \u001b[38;5;129m@_run_decorator\u001b[39m\u001b[38;5;241m.\u001b[39m_noop_on_finish()\n\u001b[0;32m   2998\u001b[0m \u001b[38;5;129m@_run_decorator\u001b[39m\u001b[38;5;241m.\u001b[39m_attach\n\u001b[0;32m   2999\u001b[0m \u001b[38;5;28;01mdef\u001b[39;00m \u001b[38;5;21mlog_artifact\u001b[39m(\n\u001b[1;32m   (...)\u001b[0m\n\u001b[0;32m   3004\u001b[0m     aliases: Optional[List[\u001b[38;5;28mstr\u001b[39m]] \u001b[38;5;241m=\u001b[39m \u001b[38;5;28;01mNone\u001b[39;00m,\n\u001b[0;32m   3005\u001b[0m ) \u001b[38;5;241m-\u001b[39m\u001b[38;5;241m>\u001b[39m Artifact:\n\u001b[0;32m   3006\u001b[0m \u001b[38;5;250m    \u001b[39m\u001b[38;5;124;03m\"\"\"Declare an artifact as an output of a run.\u001b[39;00m\n\u001b[0;32m   3007\u001b[0m \n\u001b[0;32m   3008\u001b[0m \u001b[38;5;124;03m    Arguments:\u001b[39;00m\n\u001b[1;32m   (...)\u001b[0m\n\u001b[0;32m   3028\u001b[0m \u001b[38;5;124;03m        An `Artifact` object.\u001b[39;00m\n\u001b[0;32m   3029\u001b[0m \u001b[38;5;124;03m    \"\"\"\u001b[39;00m\n\u001b[1;32m-> 3030\u001b[0m     \u001b[38;5;28;01mreturn\u001b[39;00m \u001b[38;5;28mself\u001b[39m\u001b[38;5;241m.\u001b[39m_log_artifact(\n\u001b[0;32m   3031\u001b[0m         artifact_or_path, name\u001b[38;5;241m=\u001b[39mname, \u001b[38;5;28mtype\u001b[39m\u001b[38;5;241m=\u001b[39m\u001b[38;5;28mtype\u001b[39m, aliases\u001b[38;5;241m=\u001b[39maliases\n\u001b[0;32m   3032\u001b[0m     )\n",
      "File \u001b[1;32mc:\\Users\\santi\\anaconda3\\envs\\gym\\Lib\\site-packages\\wandb\\sdk\\wandb_run.py:3165\u001b[0m, in \u001b[0;36mRun._log_artifact\u001b[1;34m(self, artifact_or_path, name, type, aliases, distributed_id, finalize, is_user_created, use_after_commit)\u001b[0m\n\u001b[0;32m   3161\u001b[0m     \u001b[38;5;28;01mif\u001b[39;00m \u001b[38;5;28many\u001b[39m(invalid \u001b[38;5;129;01min\u001b[39;00m alias \u001b[38;5;28;01mfor\u001b[39;00m alias \u001b[38;5;129;01min\u001b[39;00m aliases \u001b[38;5;28;01mfor\u001b[39;00m invalid \u001b[38;5;129;01min\u001b[39;00m [\u001b[38;5;124m\"\u001b[39m\u001b[38;5;124m/\u001b[39m\u001b[38;5;124m\"\u001b[39m, \u001b[38;5;124m\"\u001b[39m\u001b[38;5;124m:\u001b[39m\u001b[38;5;124m\"\u001b[39m]):\n\u001b[0;32m   3162\u001b[0m         \u001b[38;5;28;01mraise\u001b[39;00m \u001b[38;5;167;01mValueError\u001b[39;00m(\n\u001b[0;32m   3163\u001b[0m             \u001b[38;5;124m\"\u001b[39m\u001b[38;5;124mAliases must not contain any of the following characters: /, :\u001b[39m\u001b[38;5;124m\"\u001b[39m\n\u001b[0;32m   3164\u001b[0m         )\n\u001b[1;32m-> 3165\u001b[0m artifact, aliases \u001b[38;5;241m=\u001b[39m \u001b[38;5;28mself\u001b[39m\u001b[38;5;241m.\u001b[39m_prepare_artifact(\n\u001b[0;32m   3166\u001b[0m     artifact_or_path, name, \u001b[38;5;28mtype\u001b[39m, aliases\n\u001b[0;32m   3167\u001b[0m )\n\u001b[0;32m   3168\u001b[0m artifact\u001b[38;5;241m.\u001b[39mdistributed_id \u001b[38;5;241m=\u001b[39m distributed_id\n\u001b[0;32m   3169\u001b[0m \u001b[38;5;28mself\u001b[39m\u001b[38;5;241m.\u001b[39m_assert_can_log_artifact(artifact)\n",
      "File \u001b[1;32mc:\\Users\\santi\\anaconda3\\envs\\gym\\Lib\\site-packages\\wandb\\sdk\\wandb_run.py:3265\u001b[0m, in \u001b[0;36mRun._prepare_artifact\u001b[1;34m(self, artifact_or_path, name, type, aliases)\u001b[0m\n\u001b[0;32m   3263\u001b[0m     artifact \u001b[38;5;241m=\u001b[39m artifact_or_path\n\u001b[0;32m   3264\u001b[0m \u001b[38;5;28;01mif\u001b[39;00m \u001b[38;5;129;01mnot\u001b[39;00m \u001b[38;5;28misinstance\u001b[39m(artifact, wandb\u001b[38;5;241m.\u001b[39mArtifact):\n\u001b[1;32m-> 3265\u001b[0m     \u001b[38;5;28;01mraise\u001b[39;00m \u001b[38;5;167;01mValueError\u001b[39;00m(\n\u001b[0;32m   3266\u001b[0m         \u001b[38;5;124m\"\u001b[39m\u001b[38;5;124mYou must pass an instance of wandb.Artifact or a \u001b[39m\u001b[38;5;124m\"\u001b[39m\n\u001b[0;32m   3267\u001b[0m         \u001b[38;5;124m\"\u001b[39m\u001b[38;5;124mvalid file path to log_artifact\u001b[39m\u001b[38;5;124m\"\u001b[39m\n\u001b[0;32m   3268\u001b[0m     )\n\u001b[0;32m   3269\u001b[0m artifact\u001b[38;5;241m.\u001b[39mfinalize()\n\u001b[0;32m   3270\u001b[0m \u001b[38;5;28;01mreturn\u001b[39;00m artifact, _resolve_aliases(aliases)\n",
      "\u001b[1;31mValueError\u001b[0m: You must pass an instance of wandb.Artifact or a valid file path to log_artifact"
     ]
    }
   ],
   "source": [
    "alfa = 0.4\n",
    "gamma = 0.6\n",
    "epsilon = 0.6\n",
    "##Create Wandb artifact for hyperparameters\n",
    "import wandb\n",
    "\n",
    "# Define the hyperparameters\n",
    "alfa = 0.4\n",
    "gamma = 0.6\n",
    "epsilon = 0.6\n",
    "\n",
    "# Create a dictionary with the hyperparameters\n",
    "hyperparameters = {'alfa': alfa, 'gamma': gamma, 'epsilon': epsilon}\n",
    "\n",
    "# Create the Wandb artifact\n",
    "artifact = wandb.Artifact('hyperparameters', type='hyperparameters')\n",
    "artifact.add_file('hyperparameters.json', json.dumps(hyperparameters))\n",
    "\n",
    "# Log the artifact\n",
    "wandb.log_artifact(artifact)\n",
    "\n",
    "trainPolicy(Q, env, episodes=10000, alpha=alfa, gamma=gamma, epsilon = epsilon)"
   ]
  },
  {
   "cell_type": "code",
   "execution_count": null,
   "metadata": {},
   "outputs": [],
   "source": [
    "# Probar policy\n",
    "def testPolicy(Q, env):\n",
    "    obs, _ = env.reset()\n",
    "    done = False\n",
    "    while not done:\n",
    "        env.render()\n",
    "        state = obs\n",
    "        action = optimal_policy(state, Q)\n",
    "        obs, reward, done, _, _ = env.step(action)\n",
    "    env.render()\n",
    "    return reward\n"
   ]
  },
  {
   "cell_type": "code",
   "execution_count": null,
   "metadata": {},
   "outputs": [
    {
     "name": "stdout",
     "output_type": "stream",
     "text": [
      "19.79\n"
     ]
    }
   ],
   "source": [
    "# Chequeo de la política óptima\n",
    "# Total reward / cantidad de episodios. Reward promedio de policy.\n",
    "#Wandb: Sweeps\n",
    "\n",
    "# Testear la política 100 veces\n",
    "\n",
    "import wandb\n",
    "from wandb.sklearn import plot_precision_recall, plot_feature_importances\n",
    "from wandb.sklearn import plot_class_proportions, plot_learning_curve, plot_roc\n",
    "\n",
    "rewards = []\n",
    "for i in range(100):\n",
    "    reward = testPolicy(Q, env)\n",
    "    rewards.append(reward)\n",
    "print(np.mean(rewards))\n"
   ]
  }
 ],
 "metadata": {
  "kernelspec": {
   "display_name": "Python 3",
   "language": "python",
   "name": "python3"
  },
  "language_info": {
   "codemirror_mode": {
    "name": "ipython",
    "version": 3
   },
   "file_extension": ".py",
   "mimetype": "text/x-python",
   "name": "python",
   "nbconvert_exporter": "python",
   "pygments_lexer": "ipython3",
   "version": "3.12.2"
  },
  "orig_nbformat": 4
 },
 "nbformat": 4,
 "nbformat_minor": 2
}
