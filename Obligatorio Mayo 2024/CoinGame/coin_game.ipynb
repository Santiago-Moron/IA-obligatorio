{
 "cells": [
  {
   "cell_type": "code",
   "execution_count": 2,
   "metadata": {},
   "outputs": [],
   "source": [
    "#!pip install tabulate\n",
    "from coin_game_env import CoinGameEnv\n",
    "from input_agent import InputAgent\n",
    "from random_agent import RandomAgent\n",
    "from play import play_vs_other_agent\n",
    "from UONI import UONI\n",
    "from Minimax_agent import Minimax_agent\n",
    "from Expectimax_agent import ExpectimaxAgent"
   ]
  },
  {
   "cell_type": "code",
   "execution_count": 3,
   "metadata": {},
   "outputs": [],
   "source": [
    "env = CoinGameEnv(grid_size=5)\n",
    "input_agent = InputAgent()"
   ]
  },
  {
   "cell_type": "markdown",
   "metadata": {},
   "source": [
    "Input Agents"
   ]
  },
  {
   "cell_type": "code",
   "execution_count": null,
   "metadata": {},
   "outputs": [],
   "source": [
    "#play_vs_other_agent(env, agent1=input_agent, agent2=input_agent, render=True)"
   ]
  },
  {
   "cell_type": "markdown",
   "metadata": {},
   "source": [
    "Random Agents"
   ]
  },
  {
   "cell_type": "code",
   "execution_count": 4,
   "metadata": {},
   "outputs": [
    {
     "name": "stdout",
     "output_type": "stream",
     "text": [
      "+-----+-----+-----+-----+-----+-----+-----+-----+-----+-----+\n",
      "|     | 0   | 1   | 2   | 3   | 4   | 5   | 6   | 7   | 8   |\n",
      "+=====+=====+=====+=====+=====+=====+=====+=====+=====+=====+\n",
      "|   0 |     |     |     |     | O   |     |     |     |     |\n",
      "+-----+-----+-----+-----+-----+-----+-----+-----+-----+-----+\n",
      "|   1 |     |     |     | O   | O   | O   |     |     |     |\n",
      "+-----+-----+-----+-----+-----+-----+-----+-----+-----+-----+\n",
      "|   2 |     |     | O   | O   | O   | O   | O   |     |     |\n",
      "+-----+-----+-----+-----+-----+-----+-----+-----+-----+-----+\n",
      "|   3 |     | O   |     | O   | O   | O   | O   |     |     |\n",
      "+-----+-----+-----+-----+-----+-----+-----+-----+-----+-----+\n",
      "|   4 | O   | O   | O   | O   | O   | O   | O   | O   | O   |\n",
      "+-----+-----+-----+-----+-----+-----+-----+-----+-----+-----+\n",
      "+-----+-----+-----+-----+-----+-----+-----+-----+-----+-----+\n",
      "|     | 0   | 1   | 2   | 3   | 4   | 5   | 6   | 7   | 8   |\n",
      "+=====+=====+=====+=====+=====+=====+=====+=====+=====+=====+\n",
      "|   0 |     |     |     |     | O   |     |     |     |     |\n",
      "+-----+-----+-----+-----+-----+-----+-----+-----+-----+-----+\n",
      "|   1 |     |     |     | O   | O   | O   |     |     |     |\n",
      "+-----+-----+-----+-----+-----+-----+-----+-----+-----+-----+\n",
      "|   2 |     |     | O   | O   | O   | O   | O   |     |     |\n",
      "+-----+-----+-----+-----+-----+-----+-----+-----+-----+-----+\n",
      "|   3 |     | O   |     | O   | O   | O   | O   |     |     |\n",
      "+-----+-----+-----+-----+-----+-----+-----+-----+-----+-----+\n",
      "|   4 |     |     |     |     |     |     |     |     |     |\n",
      "+-----+-----+-----+-----+-----+-----+-----+-----+-----+-----+\n",
      "+-----+-----+-----+-----+-----+-----+-----+-----+-----+-----+\n",
      "|     | 0   | 1   | 2   | 3   | 4   | 5   | 6   | 7   | 8   |\n",
      "+=====+=====+=====+=====+=====+=====+=====+=====+=====+=====+\n",
      "|   0 |     |     |     |     | O   |     |     |     |     |\n",
      "+-----+-----+-----+-----+-----+-----+-----+-----+-----+-----+\n",
      "|   1 |     |     |     | O   | O   | O   |     |     |     |\n",
      "+-----+-----+-----+-----+-----+-----+-----+-----+-----+-----+\n",
      "|   2 |     |     | O   | O   | O   | O   | O   |     |     |\n",
      "+-----+-----+-----+-----+-----+-----+-----+-----+-----+-----+\n",
      "|   3 |     | O   |     | O   |     |     |     |     |     |\n",
      "+-----+-----+-----+-----+-----+-----+-----+-----+-----+-----+\n",
      "|   4 |     |     |     |     |     |     |     |     |     |\n",
      "+-----+-----+-----+-----+-----+-----+-----+-----+-----+-----+\n",
      "+-----+-----+-----+-----+-----+-----+-----+-----+-----+-----+\n",
      "|     | 0   | 1   | 2   | 3   | 4   | 5   | 6   | 7   | 8   |\n",
      "+=====+=====+=====+=====+=====+=====+=====+=====+=====+=====+\n",
      "|   0 |     |     |     |     | O   |     |     |     |     |\n",
      "+-----+-----+-----+-----+-----+-----+-----+-----+-----+-----+\n",
      "|   1 |     |     |     | O   | O   | O   |     |     |     |\n",
      "+-----+-----+-----+-----+-----+-----+-----+-----+-----+-----+\n",
      "|   2 |     |     |     |     |     |     |     |     |     |\n",
      "+-----+-----+-----+-----+-----+-----+-----+-----+-----+-----+\n",
      "|   3 |     | O   |     | O   |     |     |     |     |     |\n",
      "+-----+-----+-----+-----+-----+-----+-----+-----+-----+-----+\n",
      "|   4 |     |     |     |     |     |     |     |     |     |\n",
      "+-----+-----+-----+-----+-----+-----+-----+-----+-----+-----+\n",
      "+-----+-----+-----+-----+-----+-----+-----+-----+-----+-----+\n",
      "|     | 0   | 1   | 2   | 3   | 4   | 5   | 6   | 7   | 8   |\n",
      "+=====+=====+=====+=====+=====+=====+=====+=====+=====+=====+\n",
      "|   0 |     |     |     |     | O   |     |     |     |     |\n",
      "+-----+-----+-----+-----+-----+-----+-----+-----+-----+-----+\n",
      "|   1 |     |     |     |     |     |     |     |     |     |\n",
      "+-----+-----+-----+-----+-----+-----+-----+-----+-----+-----+\n",
      "|   2 |     |     |     |     |     |     |     |     |     |\n",
      "+-----+-----+-----+-----+-----+-----+-----+-----+-----+-----+\n",
      "|   3 |     | O   |     | O   |     |     |     |     |     |\n",
      "+-----+-----+-----+-----+-----+-----+-----+-----+-----+-----+\n",
      "|   4 |     |     |     |     |     |     |     |     |     |\n",
      "+-----+-----+-----+-----+-----+-----+-----+-----+-----+-----+\n",
      "+-----+-----+-----+-----+-----+-----+-----+-----+-----+-----+\n",
      "|     | 0   | 1   | 2   | 3   | 4   | 5   | 6   | 7   | 8   |\n",
      "+=====+=====+=====+=====+=====+=====+=====+=====+=====+=====+\n",
      "|   0 |     |     |     |     |     |     |     |     |     |\n",
      "+-----+-----+-----+-----+-----+-----+-----+-----+-----+-----+\n",
      "|   1 |     |     |     |     |     |     |     |     |     |\n",
      "+-----+-----+-----+-----+-----+-----+-----+-----+-----+-----+\n",
      "|   2 |     |     |     |     |     |     |     |     |     |\n",
      "+-----+-----+-----+-----+-----+-----+-----+-----+-----+-----+\n",
      "|   3 |     | O   |     | O   |     |     |     |     |     |\n",
      "+-----+-----+-----+-----+-----+-----+-----+-----+-----+-----+\n",
      "|   4 |     |     |     |     |     |     |     |     |     |\n",
      "+-----+-----+-----+-----+-----+-----+-----+-----+-----+-----+\n",
      "+-----+-----+-----+-----+-----+-----+-----+-----+-----+-----+\n",
      "|     | 0   | 1   | 2   | 3   | 4   | 5   | 6   | 7   | 8   |\n",
      "+=====+=====+=====+=====+=====+=====+=====+=====+=====+=====+\n",
      "|   0 |     |     |     |     |     |     |     |     |     |\n",
      "+-----+-----+-----+-----+-----+-----+-----+-----+-----+-----+\n",
      "|   1 |     |     |     |     |     |     |     |     |     |\n",
      "+-----+-----+-----+-----+-----+-----+-----+-----+-----+-----+\n",
      "|   2 |     |     |     |     |     |     |     |     |     |\n",
      "+-----+-----+-----+-----+-----+-----+-----+-----+-----+-----+\n",
      "|   3 |     | O   |     |     |     |     |     |     |     |\n",
      "+-----+-----+-----+-----+-----+-----+-----+-----+-----+-----+\n",
      "|   4 |     |     |     |     |     |     |     |     |     |\n",
      "+-----+-----+-----+-----+-----+-----+-----+-----+-----+-----+\n"
     ]
    },
    {
     "data": {
      "text/plain": [
       "2"
      ]
     },
     "execution_count": 4,
     "metadata": {},
     "output_type": "execute_result"
    }
   ],
   "source": [
    "\n",
    "agent1 = Minimax_agent(1)\n",
    "agent12=ExpectimaxAgent(1)\n",
    "play_vs_other_agent(env, agent12, agent2=RandomAgent(2), render=True)"
   ]
  },
  {
   "cell_type": "markdown",
   "metadata": {},
   "source": [
    "Minimax Random Agent vs UONI (Universal Optimization Neural Interface)"
   ]
  },
  {
   "cell_type": "code",
   "execution_count": 5,
   "metadata": {},
   "outputs": [],
   "source": [
    "import matplotlib.pyplot as plt\n",
    "import wandb\n",
    "# Assuming ws is a list of winners\n",
    "def print_graph(ws, level):\n",
    "    wandb.init(project=\"coin_game\")\n",
    "    winners = [\"UONI\", \"Minimax\"]\n",
    "    win_counts = [ws.count(x) for x in [1,2]]\n",
    "\n",
    "    fig, ax = plt.subplots()\n",
    "    plt.bar(winners, win_counts)\n",
    "    \n",
    "    plt.xlabel('Winner Number ' + level)\n",
    "    plt.ylabel('Win Amount')\n",
    "    plt.title('Win Amount per Winner')\n",
    "    plt.show()\n",
    "    return fig"
   ]
  },
  {
   "cell_type": "code",
   "execution_count": 7,
   "metadata": {},
   "outputs": [
    {
     "data": {
      "text/html": [
       "Finishing last run (ID:yhk3g74o) before initializing another..."
      ],
      "text/plain": [
       "<IPython.core.display.HTML object>"
      ]
     },
     "metadata": {},
     "output_type": "display_data"
    },
    {
     "data": {
      "text/html": [
       " View run <strong style=\"color:#cdcd00\">honest-forest-18</strong> at: <a href='https://wandb.ai/ia-santiago-moron/coin_game/runs/yhk3g74o/workspace' target=\"_blank\">https://wandb.ai/ia-santiago-moron/coin_game/runs/yhk3g74o/workspace</a><br/>Synced 4 W&B file(s), 1 media file(s), 0 artifact file(s) and 0 other file(s)"
      ],
      "text/plain": [
       "<IPython.core.display.HTML object>"
      ]
     },
     "metadata": {},
     "output_type": "display_data"
    },
    {
     "data": {
      "text/html": [
       "Find logs at: <code>.\\wandb\\run-20240703_103030-yhk3g74o\\logs</code>"
      ],
      "text/plain": [
       "<IPython.core.display.HTML object>"
      ]
     },
     "metadata": {},
     "output_type": "display_data"
    },
    {
     "data": {
      "text/html": [
       "Successfully finished last run (ID:yhk3g74o). Initializing new run:<br/>"
      ],
      "text/plain": [
       "<IPython.core.display.HTML object>"
      ]
     },
     "metadata": {},
     "output_type": "display_data"
    },
    {
     "data": {
      "text/html": [
       "wandb version 0.17.3 is available!  To upgrade, please run:\n",
       " $ pip install wandb --upgrade"
      ],
      "text/plain": [
       "<IPython.core.display.HTML object>"
      ]
     },
     "metadata": {},
     "output_type": "display_data"
    },
    {
     "data": {
      "text/html": [
       "Tracking run with wandb version 0.16.5"
      ],
      "text/plain": [
       "<IPython.core.display.HTML object>"
      ]
     },
     "metadata": {},
     "output_type": "display_data"
    },
    {
     "data": {
      "text/html": [
       "Run data is saved locally in <code>c:\\Users\\santi\\OneDrive\\Escritorio\\IA-obligatorio\\Obligatorio Mayo 2024\\CoinGame\\wandb\\run-20240703_103147-wvq8gvnl</code>"
      ],
      "text/plain": [
       "<IPython.core.display.HTML object>"
      ]
     },
     "metadata": {},
     "output_type": "display_data"
    },
    {
     "data": {
      "text/html": [
       "Syncing run <strong><a href='https://wandb.ai/ia-santiago-moron/coin_game/runs/wvq8gvnl/workspace' target=\"_blank\">grateful-deluge-19</a></strong> to <a href='https://wandb.ai/ia-santiago-moron/coin_game' target=\"_blank\">Weights & Biases</a> (<a href='https://wandb.me/run' target=\"_blank\">docs</a>)<br/>"
      ],
      "text/plain": [
       "<IPython.core.display.HTML object>"
      ]
     },
     "metadata": {},
     "output_type": "display_data"
    },
    {
     "data": {
      "text/html": [
       " View project at <a href='https://wandb.ai/ia-santiago-moron/coin_game' target=\"_blank\">https://wandb.ai/ia-santiago-moron/coin_game</a>"
      ],
      "text/plain": [
       "<IPython.core.display.HTML object>"
      ]
     },
     "metadata": {},
     "output_type": "display_data"
    },
    {
     "data": {
      "text/html": [
       " View run at <a href='https://wandb.ai/ia-santiago-moron/coin_game/runs/wvq8gvnl/workspace' target=\"_blank\">https://wandb.ai/ia-santiago-moron/coin_game/runs/wvq8gvnl/workspace</a>"
      ],
      "text/plain": [
       "<IPython.core.display.HTML object>"
      ]
     },
     "metadata": {},
     "output_type": "display_data"
    },
    {
     "name": "stderr",
     "output_type": "stream",
     "text": [
      "100%|██████████| 5/5 [00:14<00:00,  2.84s/it]\n"
     ]
    },
    {
     "data": {
      "text/html": [
       "Finishing last run (ID:wvq8gvnl) before initializing another..."
      ],
      "text/plain": [
       "<IPython.core.display.HTML object>"
      ]
     },
     "metadata": {},
     "output_type": "display_data"
    },
    {
     "data": {
      "text/html": [
       " View run <strong style=\"color:#cdcd00\">grateful-deluge-19</strong> at: <a href='https://wandb.ai/ia-santiago-moron/coin_game/runs/wvq8gvnl/workspace' target=\"_blank\">https://wandb.ai/ia-santiago-moron/coin_game/runs/wvq8gvnl/workspace</a><br/>Synced 5 W&B file(s), 0 media file(s), 0 artifact file(s) and 0 other file(s)"
      ],
      "text/plain": [
       "<IPython.core.display.HTML object>"
      ]
     },
     "metadata": {},
     "output_type": "display_data"
    },
    {
     "data": {
      "text/html": [
       "Find logs at: <code>.\\wandb\\run-20240703_103147-wvq8gvnl\\logs</code>"
      ],
      "text/plain": [
       "<IPython.core.display.HTML object>"
      ]
     },
     "metadata": {},
     "output_type": "display_data"
    },
    {
     "data": {
      "text/html": [
       "Successfully finished last run (ID:wvq8gvnl). Initializing new run:<br/>"
      ],
      "text/plain": [
       "<IPython.core.display.HTML object>"
      ]
     },
     "metadata": {},
     "output_type": "display_data"
    },
    {
     "data": {
      "text/html": [
       "wandb version 0.17.3 is available!  To upgrade, please run:\n",
       " $ pip install wandb --upgrade"
      ],
      "text/plain": [
       "<IPython.core.display.HTML object>"
      ]
     },
     "metadata": {},
     "output_type": "display_data"
    },
    {
     "data": {
      "text/html": [
       "Tracking run with wandb version 0.16.5"
      ],
      "text/plain": [
       "<IPython.core.display.HTML object>"
      ]
     },
     "metadata": {},
     "output_type": "display_data"
    },
    {
     "data": {
      "text/html": [
       "Run data is saved locally in <code>c:\\Users\\santi\\OneDrive\\Escritorio\\IA-obligatorio\\Obligatorio Mayo 2024\\CoinGame\\wandb\\run-20240703_103207-e90p2l4t</code>"
      ],
      "text/plain": [
       "<IPython.core.display.HTML object>"
      ]
     },
     "metadata": {},
     "output_type": "display_data"
    },
    {
     "data": {
      "text/html": [
       "Syncing run <strong><a href='https://wandb.ai/ia-santiago-moron/coin_game/runs/e90p2l4t/workspace' target=\"_blank\">morning-shadow-20</a></strong> to <a href='https://wandb.ai/ia-santiago-moron/coin_game' target=\"_blank\">Weights & Biases</a> (<a href='https://wandb.me/run' target=\"_blank\">docs</a>)<br/>"
      ],
      "text/plain": [
       "<IPython.core.display.HTML object>"
      ]
     },
     "metadata": {},
     "output_type": "display_data"
    },
    {
     "data": {
      "text/html": [
       " View project at <a href='https://wandb.ai/ia-santiago-moron/coin_game' target=\"_blank\">https://wandb.ai/ia-santiago-moron/coin_game</a>"
      ],
      "text/plain": [
       "<IPython.core.display.HTML object>"
      ]
     },
     "metadata": {},
     "output_type": "display_data"
    },
    {
     "data": {
      "text/html": [
       " View run at <a href='https://wandb.ai/ia-santiago-moron/coin_game/runs/e90p2l4t/workspace' target=\"_blank\">https://wandb.ai/ia-santiago-moron/coin_game/runs/e90p2l4t/workspace</a>"
      ],
      "text/plain": [
       "<IPython.core.display.HTML object>"
      ]
     },
     "metadata": {},
     "output_type": "display_data"
    },
    {
     "data": {
      "image/png": "[encoded data removed]",
      "text/plain": [
       "<Figure size 640x480 with 1 Axes>"
      ]
     },
     "metadata": {},
     "output_type": "display_data"
    },
    {
     "name": "stderr",
     "output_type": "stream",
     "text": [
      "100%|██████████| 5/5 [00:14<00:00,  3.00s/it]\n"
     ]
    },
    {
     "data": {
      "text/html": [
       "Finishing last run (ID:e90p2l4t) before initializing another..."
      ],
      "text/plain": [
       "<IPython.core.display.HTML object>"
      ]
     },
     "metadata": {},
     "output_type": "display_data"
    },
    {
     "data": {
      "text/html": [
       " View run <strong style=\"color:#cdcd00\">morning-shadow-20</strong> at: <a href='https://wandb.ai/ia-santiago-moron/coin_game/runs/e90p2l4t/workspace' target=\"_blank\">https://wandb.ai/ia-santiago-moron/coin_game/runs/e90p2l4t/workspace</a><br/>Synced 5 W&B file(s), 1 media file(s), 0 artifact file(s) and 0 other file(s)"
      ],
      "text/plain": [
       "<IPython.core.display.HTML object>"
      ]
     },
     "metadata": {},
     "output_type": "display_data"
    },
    {
     "data": {
      "text/html": [
       "Find logs at: <code>.\\wandb\\run-20240703_103207-e90p2l4t\\logs</code>"
      ],
      "text/plain": [
       "<IPython.core.display.HTML object>"
      ]
     },
     "metadata": {},
     "output_type": "display_data"
    },
    {
     "data": {
      "text/html": [
       "Successfully finished last run (ID:e90p2l4t). Initializing new run:<br/>"
      ],
      "text/plain": [
       "<IPython.core.display.HTML object>"
      ]
     },
     "metadata": {},
     "output_type": "display_data"
    },
    {
     "data": {
      "text/html": [
       "wandb version 0.17.3 is available!  To upgrade, please run:\n",
       " $ pip install wandb --upgrade"
      ],
      "text/plain": [
       "<IPython.core.display.HTML object>"
      ]
     },
     "metadata": {},
     "output_type": "display_data"
    },
    {
     "data": {
      "text/html": [
       "Tracking run with wandb version 0.16.5"
      ],
      "text/plain": [
       "<IPython.core.display.HTML object>"
      ]
     },
     "metadata": {},
     "output_type": "display_data"
    },
    {
     "data": {
      "text/html": [
       "Run data is saved locally in <code>c:\\Users\\santi\\OneDrive\\Escritorio\\IA-obligatorio\\Obligatorio Mayo 2024\\CoinGame\\wandb\\run-20240703_103230-0jir9mx0</code>"
      ],
      "text/plain": [
       "<IPython.core.display.HTML object>"
      ]
     },
     "metadata": {},
     "output_type": "display_data"
    },
    {
     "data": {
      "text/html": [
       "Syncing run <strong><a href='https://wandb.ai/ia-santiago-moron/coin_game/runs/0jir9mx0/workspace' target=\"_blank\">twilight-wind-21</a></strong> to <a href='https://wandb.ai/ia-santiago-moron/coin_game' target=\"_blank\">Weights & Biases</a> (<a href='https://wandb.me/run' target=\"_blank\">docs</a>)<br/>"
      ],
      "text/plain": [
       "<IPython.core.display.HTML object>"
      ]
     },
     "metadata": {},
     "output_type": "display_data"
    },
    {
     "data": {
      "text/html": [
       " View project at <a href='https://wandb.ai/ia-santiago-moron/coin_game' target=\"_blank\">https://wandb.ai/ia-santiago-moron/coin_game</a>"
      ],
      "text/plain": [
       "<IPython.core.display.HTML object>"
      ]
     },
     "metadata": {},
     "output_type": "display_data"
    },
    {
     "data": {
      "text/html": [
       " View run at <a href='https://wandb.ai/ia-santiago-moron/coin_game/runs/0jir9mx0/workspace' target=\"_blank\">https://wandb.ai/ia-santiago-moron/coin_game/runs/0jir9mx0/workspace</a>"
      ],
      "text/plain": [
       "<IPython.core.display.HTML object>"
      ]
     },
     "metadata": {},
     "output_type": "display_data"
    },
    {
     "data": {
      "image/png": "[encoded data removed]",
      "text/plain": [
       "<Figure size 640x480 with 1 Axes>"
      ]
     },
     "metadata": {},
     "output_type": "display_data"
    },
    {
     "data": {
      "text/html": [
       " View run <strong style=\"color:#cdcd00\">twilight-wind-21</strong> at: <a href='https://wandb.ai/ia-santiago-moron/coin_game/runs/0jir9mx0/workspace' target=\"_blank\">https://wandb.ai/ia-santiago-moron/coin_game/runs/0jir9mx0/workspace</a><br/>Synced 4 W&B file(s), 1 media file(s), 0 artifact file(s) and 0 other file(s)"
      ],
      "text/plain": [
       "<IPython.core.display.HTML object>"
      ]
     },
     "metadata": {},
     "output_type": "display_data"
    },
    {
     "data": {
      "text/html": [
       "Find logs at: <code>.\\wandb\\run-20240703_103230-0jir9mx0\\logs</code>"
      ],
      "text/plain": [
       "<IPython.core.display.HTML object>"
      ]
     },
     "metadata": {},
     "output_type": "display_data"
    }
   ],
   "source": [
    "from tqdm import tqdm\n",
    "import wandb\n",
    "\n",
    "wandb.init(project=\"coin_game\")\n",
    "\n",
    "ws = {'medium':[], 'hard':[]}\n",
    "for level in ['medium', 'hard']:\n",
    "    for i in tqdm(range(30)):\n",
    "        if i%2 == 0:\n",
    "            ws[level].append(play_vs_other_agent(env, agent1=UONI(1, level), agent2=Minimax_agent(2), render=False))\n",
    "        else:\n",
    "            ws[level].append(3-play_vs_other_agent(env, agent1=Minimax_agent(1), agent2=UONI(2, level), render=False))\n",
    "        \n",
    "    fig = print_graph(ws[level], level)\n",
    "    wandb.log({\"Winners\": wandb.Image(fig)})\n",
    "\n",
    "wandb.finish()\n",
    "        "
   ]
  },
  {
   "cell_type": "markdown",
   "metadata": {},
   "source": [
    "UONI vs Expectimax"
   ]
  },
  {
   "cell_type": "code",
   "execution_count": 23,
   "metadata": {},
   "outputs": [],
   "source": [
    "import matplotlib.pyplot as plt\n",
    "import wandb\n",
    "\n",
    "def print_graph(ws, level):\n",
    "    #wandb.init(project=\"coin_game\")\n",
    "    \n",
    "    winners = [\"UONI\", \"Minimax\"]\n",
    "    win_counts = [ws.count(x) for x in [1, 2]]\n",
    "\n",
    "    fig, ax = plt.subplots()\n",
    "    \n",
    "    ax.bar(winners, win_counts)\n",
    "\n",
    "    ax.set_xlabel('Winner Number ' + level)\n",
    "    ax.set_ylabel('Win Amount')\n",
    "    ax.set_title('Win Amount per Winner')\n",
    "\n",
    "    #wandb.log({\"Winners\": wandb.Image(fig)})\n",
    "\n",
    "    plt.show()\n",
    "    \n",
    "    plt.close(fig)"
   ]
  },
  {
   "cell_type": "code",
   "execution_count": 25,
   "metadata": {},
   "outputs": [
    {
     "data": {
      "text/html": [
       "Finishing last run (ID:uz0vpyyh) before initializing another..."
      ],
      "text/plain": [
       "<IPython.core.display.HTML object>"
      ]
     },
     "metadata": {},
     "output_type": "display_data"
    },
    {
     "name": "stderr",
     "output_type": "stream",
     "text": [
      "\u001b[34m\u001b[1mwandb\u001b[0m: \u001b[32m\u001b[41mERROR\u001b[0m Control-C detected -- Run data was not synced\n"
     ]
    },
    {
     "data": {
      "text/html": [
       "Successfully finished last run (ID:uz0vpyyh). Initializing new run:<br/>"
      ],
      "text/plain": [
       "<IPython.core.display.HTML object>"
      ]
     },
     "metadata": {},
     "output_type": "display_data"
    }
   ],
   "source": [
    "from tqdm import tqdm\n",
    "import wandb\n",
    "wandb.init(project=\"coin_game\")\n",
    "ws = {'easy':[], 'medium':[], 'hard':[]}\n",
    "for level in ['easy', 'medium', 'hard']:\n",
    "    for i in tqdm(range(30)):\n",
    "        if i%2 == 0:\n",
    "            ws[level].append(play_vs_other_agent(env, agent1=UONI(1, level), agent2=ExpectimaxAgent(2), render=False))\n",
    "        else:\n",
    "            ws[level].append(3-play_vs_other_agent(env, agent1=ExpectimaxAgent(1), agent2=UONI(2, level), render=False))\n",
    "    fig = print_graph(ws[level], level)\n",
    "    wandb.log({\"Winners\": wandb.Image(fig)})"
   ]
  },
  {
   "cell_type": "markdown",
   "metadata": {},
   "source": [
    "Testing entre agentes propios"
   ]
  },
  {
   "cell_type": "code",
   "execution_count": 5,
   "metadata": {},
   "outputs": [],
   "source": [
    "import matplotlib.pyplot as plt\n",
    "# Assuming ws is a list of winners\n",
    "def print_graph(ws, level):\n",
    "    winners = [\"Expectimax\", \"Minimax\"]\n",
    "    win_counts = [ws.count(x) for x in [1,2]]\n",
    "\n",
    "    plt.bar(winners, win_counts)\n",
    "    plt.xlabel('Winner Number ' + level)\n",
    "    plt.ylabel('Win Amount')\n",
    "    plt.title('Win Amount per Winner')\n",
    "    plt.show()"
   ]
  },
  {
   "cell_type": "code",
   "execution_count": 6,
   "metadata": {},
   "outputs": [
    {
     "name": "stderr",
     "output_type": "stream",
     "text": [
      "100%|██████████| 30/30 [01:41<00:00,  3.38s/it]\n"
     ]
    },
    {
     "data": {
      "image/png": "[encoded data removed]",
      "text/plain": [
       "<Figure size 640x480 with 1 Axes>"
      ]
     },
     "metadata": {},
     "output_type": "display_data"
    },
    {
     "name": "stderr",
     "output_type": "stream",
     "text": [
      "100%|██████████| 30/30 [01:51<00:00,  3.70s/it]\n"
     ]
    },
    {
     "data": {
      "image/png": "[encoded data removed]",
      "text/plain": [
       "<Figure size 640x480 with 1 Axes>"
      ]
     },
     "metadata": {},
     "output_type": "display_data"
    },
    {
     "name": "stderr",
     "output_type": "stream",
     "text": [
      "100%|██████████| 30/30 [02:00<00:00,  4.02s/it]\n"
     ]
    },
    {
     "data": {
      "image/png": "[encoded data removed]",
      "text/plain": [
       "<Figure size 640x480 with 1 Axes>"
      ]
     },
     "metadata": {},
     "output_type": "display_data"
    }
   ],
   "source": [
    "from tqdm import tqdm\n",
    "\n",
    "ws = {'easy':[], 'medium':[], 'hard':[]}\n",
    "for level in ['easy', 'medium', 'hard']:\n",
    "    for i in tqdm(range(30)):\n",
    "        if i%2 == 0:\n",
    "            ws[level].append(play_vs_other_agent(env, agent1=ExpectimaxAgent(1), agent2=Minimax_agent(2), render=False))\n",
    "        else:\n",
    "            ws[level].append(3-play_vs_other_agent(env, agent1=Minimax_agent(1), agent2=ExpectimaxAgent(1), render=False))\n",
    "    print_graph(ws[level], level)"
   ]
  }
 ],
 "metadata": {
  "kernelspec": {
   "display_name": "Python 3",
   "language": "python",
   "name": "python3"
  },
  "language_info": {
   "codemirror_mode": {
    "name": "ipython",
    "version": 3
   },
   "file_extension": ".py",
   "mimetype": "text/x-python",
   "name": "python",
   "nbconvert_exporter": "python",
   "pygments_lexer": "ipython3",
   "version": "3.12.2"
  }
 },
 "nbformat": 4,
 "nbformat_minor": 2
}
