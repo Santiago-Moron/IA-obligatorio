{
 "cells": [
  {
   "cell_type": "code",
   "execution_count": 16,
   "metadata": {},
   "outputs": [],
   "source": [
    "#!pip install tabulate\n",
    "from coin_game_env import CoinGameEnv\n",
    "from input_agent import InputAgent\n",
    "from random_agent import RandomAgent\n",
    "from play import play_vs_other_agent\n",
    "from UONI import UONI"
   ]
  },
  {
   "cell_type": "code",
   "execution_count": 17,
   "metadata": {},
   "outputs": [],
   "source": [
    "env = CoinGameEnv(grid_size=5)\n",
    "input_agent = InputAgent()"
   ]
  },
  {
   "cell_type": "markdown",
   "metadata": {},
   "source": [
    "Input Agents"
   ]
  },
  {
   "cell_type": "code",
   "execution_count": 18,
   "metadata": {},
   "outputs": [],
   "source": [
    "#play_vs_other_agent(env, agent1=input_agent, agent2=input_agent, render=True)"
   ]
  },
  {
   "cell_type": "markdown",
   "metadata": {},
   "source": [
    "Random Agents"
   ]
  },
  {
   "cell_type": "code",
   "execution_count": 19,
   "metadata": {},
   "outputs": [
    {
     "ename": "TypeError",
     "evalue": "'module' object is not callable. Did you mean: 'tabulate.tabulate(...)'?",
     "output_type": "error",
     "traceback": [
      "\u001b[1;31m---------------------------------------------------------------------------\u001b[0m",
      "\u001b[1;31mTypeError\u001b[0m                                 Traceback (most recent call last)",
      "Cell \u001b[1;32mIn[19], line 1\u001b[0m\n\u001b[1;32m----> 1\u001b[0m play_vs_other_agent(env, agent1\u001b[38;5;241m=\u001b[39mRandomAgent(\u001b[38;5;241m1\u001b[39m), agent2\u001b[38;5;241m=\u001b[39mRandomAgent(\u001b[38;5;241m2\u001b[39m), render\u001b[38;5;241m=\u001b[39m\u001b[38;5;28;01mTrue\u001b[39;00m)\n",
      "File \u001b[1;32mc:\\Users\\santi\\OneDrive\\Escritorio\\IA-obligatorio\\Obligatorio Mayo 2024\\CoinGame\\play.py:12\u001b[0m, in \u001b[0;36mplay_vs_other_agent\u001b[1;34m(env, agent1, agent2, render)\u001b[0m\n\u001b[0;32m     10\u001b[0m winner \u001b[38;5;241m=\u001b[39m \u001b[38;5;241m0\u001b[39m\n\u001b[0;32m     11\u001b[0m \u001b[38;5;28;01mwhile\u001b[39;00m \u001b[38;5;129;01mnot\u001b[39;00m done:\n\u001b[1;32m---> 12\u001b[0m     \u001b[38;5;28;01mif\u001b[39;00m render: env\u001b[38;5;241m.\u001b[39mrender()\n\u001b[0;32m     13\u001b[0m     action \u001b[38;5;241m=\u001b[39m agent1\u001b[38;5;241m.\u001b[39mnext_action(obs)\n\u001b[0;32m     14\u001b[0m     obs, _, done, winner, _ \u001b[38;5;241m=\u001b[39m env\u001b[38;5;241m.\u001b[39mstep(action)\n",
      "File \u001b[1;32mc:\\Users\\santi\\OneDrive\\Escritorio\\IA-obligatorio\\Obligatorio Mayo 2024\\CoinGame\\coin_game_env.py:43\u001b[0m, in \u001b[0;36mCoinGameEnv.render\u001b[1;34m(self)\u001b[0m\n\u001b[0;32m     42\u001b[0m \u001b[38;5;28;01mdef\u001b[39;00m \u001b[38;5;21mrender\u001b[39m(\u001b[38;5;28mself\u001b[39m):\n\u001b[1;32m---> 43\u001b[0m     \u001b[38;5;28mself\u001b[39m\u001b[38;5;241m.\u001b[39mgrid\u001b[38;5;241m.\u001b[39mrender_grid()\n",
      "File \u001b[1;32mc:\\Users\\santi\\OneDrive\\Escritorio\\IA-obligatorio\\Obligatorio Mayo 2024\\CoinGame\\board.py:57\u001b[0m, in \u001b[0;36mBoard.render_grid\u001b[1;34m(self)\u001b[0m\n\u001b[0;32m     54\u001b[0m headers\u001b[38;5;241m.\u001b[39minsert(\u001b[38;5;241m0\u001b[39m, \u001b[38;5;124m\"\u001b[39m\u001b[38;5;124m \u001b[39m\u001b[38;5;124m\"\u001b[39m)\n\u001b[0;32m     55\u001b[0m table\u001b[38;5;241m.\u001b[39minsert(\u001b[38;5;241m0\u001b[39m, headers)\n\u001b[1;32m---> 57\u001b[0m \u001b[38;5;28mprint\u001b[39m(tabulate(table, headers\u001b[38;5;241m=\u001b[39m\u001b[38;5;124m\"\u001b[39m\u001b[38;5;124mfirstrow\u001b[39m\u001b[38;5;124m\"\u001b[39m, tablefmt\u001b[38;5;241m=\u001b[39m\u001b[38;5;124m\"\u001b[39m\u001b[38;5;124mgrid\u001b[39m\u001b[38;5;124m\"\u001b[39m))\n",
      "\u001b[1;31mTypeError\u001b[0m: 'module' object is not callable. Did you mean: 'tabulate.tabulate(...)'?"
     ]
    }
   ],
   "source": [
    "play_vs_other_agent(env, agent1=RandomAgent(1), agent2=RandomAgent(2), render=True)"
   ]
  },
  {
   "cell_type": "markdown",
   "metadata": {},
   "source": [
    "Random Agent vs UONI (Universal Optimization Neural Interface)"
   ]
  },
  {
   "cell_type": "code",
   "execution_count": null,
   "metadata": {},
   "outputs": [],
   "source": [
    "import matplotlib.pyplot as plt\n",
    "# Assuming ws is a list of winners\n",
    "def print_graph(ws, level):\n",
    "    winners = [\"UONI\", \"OTHER\"]\n",
    "    win_counts = [ws.count(x) for x in [1,2]]\n",
    "\n",
    "    plt.bar(winners, win_counts)\n",
    "    plt.xlabel('Winner Number ' + level)\n",
    "    plt.ylabel('Win Amount')\n",
    "    plt.title('Win Amount per Winner')\n",
    "    plt.show()"
   ]
  },
  {
   "cell_type": "code",
   "execution_count": null,
   "metadata": {},
   "outputs": [],
   "source": [
    "from tqdm import tqdm\n",
    "ws = {'easy':[], 'medium':[], 'hard':[]}\n",
    "for level in ['easy', 'medium', 'hard']:\n",
    "    for i in tqdm(range(20)):\n",
    "        if i%2 == 0:\n",
    "            ws[level].append(play_vs_other_agent(env, agent1=UONI(1, level), agent2=RandomAgent(2), render=False))\n",
    "        else:\n",
    "            ws[level].append(3-play_vs_other_agent(env, agent1=RandomAgent(1), agent2=UONI(2, level), render=False))\n",
    "    print_graph(ws[level], level)"
   ]
  }
 ],
 "metadata": {
  "kernelspec": {
   "display_name": "Python 3",
   "language": "python",
   "name": "python3"
  },
  "language_info": {
   "codemirror_mode": {
    "name": "ipython",
    "version": 3
   },
   "file_extension": ".py",
   "mimetype": "text/x-python",
   "name": "python",
   "nbconvert_exporter": "python",
   "pygments_lexer": "ipython3",
   "version": "3.12.2"
  }
 },
 "nbformat": 4,
 "nbformat_minor": 2
}
