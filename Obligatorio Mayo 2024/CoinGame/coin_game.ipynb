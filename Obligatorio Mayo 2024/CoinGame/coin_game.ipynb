{
 "cells": [
  {
   "cell_type": "code",
   "execution_count": 1,
   "metadata": {},
   "outputs": [],
   "source": [
    "#!pip install tabulate\n",
    "from coin_game_env import CoinGameEnv\n",
    "from input_agent import InputAgent\n",
    "from random_agent import RandomAgent\n",
    "from play import play_vs_other_agent\n",
    "from UONI import UONI\n",
    "from Minimax_agent import Minimax_agent\n",
    "from Expectimax_agent import ExpectimaxAgent"
   ]
  },
  {
   "cell_type": "code",
   "execution_count": 2,
   "metadata": {},
   "outputs": [],
   "source": [
    "env = CoinGameEnv(grid_size=5)\n",
    "input_agent = InputAgent()"
   ]
  },
  {
   "cell_type": "markdown",
   "metadata": {},
   "source": [
    "Input Agents"
   ]
  },
  {
   "cell_type": "code",
   "execution_count": 7,
   "metadata": {},
   "outputs": [],
   "source": [
    "#play_vs_other_agent(env, agent1=input_agent, agent2=input_agent, render=True)"
   ]
  },
  {
   "cell_type": "markdown",
   "metadata": {},
   "source": [
    "Random Agents"
   ]
  },
  {
   "cell_type": "code",
   "execution_count": 3,
   "metadata": {},
   "outputs": [
    {
     "name": "stdout",
     "output_type": "stream",
     "text": [
      "+-----+-----+-----+-----+-----+-----+-----+-----+-----+-----+\n",
      "|     | 0   | 1   | 2   | 3   | 4   | 5   | 6   | 7   | 8   |\n",
      "+=====+=====+=====+=====+=====+=====+=====+=====+=====+=====+\n",
      "|   0 |     |     |     |     | O   |     |     |     |     |\n",
      "+-----+-----+-----+-----+-----+-----+-----+-----+-----+-----+\n",
      "|   1 |     |     |     | O   | O   | O   |     |     |     |\n",
      "+-----+-----+-----+-----+-----+-----+-----+-----+-----+-----+\n",
      "|   2 |     |     | O   | O   | O   | O   | O   |     |     |\n",
      "+-----+-----+-----+-----+-----+-----+-----+-----+-----+-----+\n",
      "|   3 |     | O   | O   | O   | O   | O   | O   | O   |     |\n",
      "+-----+-----+-----+-----+-----+-----+-----+-----+-----+-----+\n",
      "|   4 | O   | O   | O   | O   | O   | O   | O   | O   | O   |\n",
      "+-----+-----+-----+-----+-----+-----+-----+-----+-----+-----+\n"
     ]
    },
    {
     "ename": "AttributeError",
     "evalue": "'Minimax_agent' object has no attribute 'nim_sum'",
     "output_type": "error",
     "traceback": [
      "\u001b[1;31m---------------------------------------------------------------------------\u001b[0m",
      "\u001b[1;31mAttributeError\u001b[0m                            Traceback (most recent call last)",
      "Cell \u001b[1;32mIn[3], line 3\u001b[0m\n\u001b[0;32m      1\u001b[0m agent1 \u001b[38;5;241m=\u001b[39m Minimax_agent(\u001b[38;5;241m1\u001b[39m)\n\u001b[0;32m      2\u001b[0m agent12\u001b[38;5;241m=\u001b[39mExpectimaxAgent(\u001b[38;5;241m1\u001b[39m)\n\u001b[1;32m----> 3\u001b[0m play_vs_other_agent(env, agent1, agent2\u001b[38;5;241m=\u001b[39mRandomAgent(\u001b[38;5;241m2\u001b[39m), render\u001b[38;5;241m=\u001b[39m\u001b[38;5;28;01mTrue\u001b[39;00m)\n",
      "File \u001b[1;32mc:\\Users\\santi\\OneDrive\\Escritorio\\IA-obligatorio\\Obligatorio Mayo 2024\\CoinGame\\play.py:13\u001b[0m, in \u001b[0;36mplay_vs_other_agent\u001b[1;34m(env, agent1, agent2, render)\u001b[0m\n\u001b[0;32m     11\u001b[0m \u001b[38;5;28;01mwhile\u001b[39;00m \u001b[38;5;129;01mnot\u001b[39;00m done:\n\u001b[0;32m     12\u001b[0m     \u001b[38;5;28;01mif\u001b[39;00m render: env\u001b[38;5;241m.\u001b[39mrender()\n\u001b[1;32m---> 13\u001b[0m     action \u001b[38;5;241m=\u001b[39m agent1\u001b[38;5;241m.\u001b[39mnext_action(obs)\n\u001b[0;32m     14\u001b[0m     obs, _, done, winner, _ \u001b[38;5;241m=\u001b[39m env\u001b[38;5;241m.\u001b[39mstep(action)\n\u001b[0;32m     16\u001b[0m     \u001b[38;5;28;01mif\u001b[39;00m render: env\u001b[38;5;241m.\u001b[39mrender()\n",
      "File \u001b[1;32mc:\\Users\\santi\\OneDrive\\Escritorio\\IA-obligatorio\\Obligatorio Mayo 2024\\CoinGame\\Minimax_agent.py:10\u001b[0m, in \u001b[0;36mMinimax_agent.next_action\u001b[1;34m(self, board)\u001b[0m\n\u001b[0;32m      9\u001b[0m \u001b[38;5;28;01mdef\u001b[39;00m \u001b[38;5;21mnext_action\u001b[39m(\u001b[38;5;28mself\u001b[39m, board):\n\u001b[1;32m---> 10\u001b[0m     action, _ \u001b[38;5;241m=\u001b[39m \u001b[38;5;28mself\u001b[39m\u001b[38;5;241m.\u001b[39mminimax(board, \u001b[38;5;28mself\u001b[39m\u001b[38;5;241m.\u001b[39mplayer, \u001b[38;5;241m2\u001b[39m, \u001b[38;5;28mfloat\u001b[39m(\u001b[38;5;124m'\u001b[39m\u001b[38;5;124m-inf\u001b[39m\u001b[38;5;124m'\u001b[39m), \u001b[38;5;28mfloat\u001b[39m(\u001b[38;5;124m'\u001b[39m\u001b[38;5;124minf\u001b[39m\u001b[38;5;124m'\u001b[39m))\n\u001b[0;32m     11\u001b[0m     \u001b[38;5;28;01mreturn\u001b[39;00m action\n",
      "File \u001b[1;32mc:\\Users\\santi\\OneDrive\\Escritorio\\IA-obligatorio\\Obligatorio Mayo 2024\\CoinGame\\Minimax_agent.py:83\u001b[0m, in \u001b[0;36mMinimax_agent.minimax\u001b[1;34m(self, board, player, depth, alpha, beta)\u001b[0m\n\u001b[0;32m     81\u001b[0m max_eval \u001b[38;5;241m=\u001b[39m \u001b[38;5;28mfloat\u001b[39m(\u001b[38;5;124m'\u001b[39m\u001b[38;5;124m-inf\u001b[39m\u001b[38;5;124m'\u001b[39m)\n\u001b[0;32m     82\u001b[0m \u001b[38;5;28;01mfor\u001b[39;00m action, new_board \u001b[38;5;129;01min\u001b[39;00m actions_and_boards:\n\u001b[1;32m---> 83\u001b[0m     _, \u001b[38;5;28meval\u001b[39m \u001b[38;5;241m=\u001b[39m \u001b[38;5;28mself\u001b[39m\u001b[38;5;241m.\u001b[39mminimax(new_board, (player \u001b[38;5;241m%\u001b[39m \u001b[38;5;241m2\u001b[39m) \u001b[38;5;241m+\u001b[39m \u001b[38;5;241m1\u001b[39m, depth \u001b[38;5;241m-\u001b[39m \u001b[38;5;241m1\u001b[39m, alpha, beta)\n\u001b[0;32m     84\u001b[0m     \u001b[38;5;28;01mif\u001b[39;00m \u001b[38;5;28meval\u001b[39m \u001b[38;5;241m>\u001b[39m max_eval:\n\u001b[0;32m     85\u001b[0m         max_eval \u001b[38;5;241m=\u001b[39m \u001b[38;5;28meval\u001b[39m\n",
      "File \u001b[1;32mc:\\Users\\santi\\OneDrive\\Escritorio\\IA-obligatorio\\Obligatorio Mayo 2024\\CoinGame\\Minimax_agent.py:72\u001b[0m, in \u001b[0;36mMinimax_agent.minimax\u001b[1;34m(self, board, player, depth, alpha, beta)\u001b[0m\n\u001b[0;32m     70\u001b[0m min_eval \u001b[38;5;241m=\u001b[39m \u001b[38;5;28mfloat\u001b[39m(\u001b[38;5;124m'\u001b[39m\u001b[38;5;124minf\u001b[39m\u001b[38;5;124m'\u001b[39m)\n\u001b[0;32m     71\u001b[0m \u001b[38;5;28;01mfor\u001b[39;00m action, new_board \u001b[38;5;129;01min\u001b[39;00m actions_and_boards:\n\u001b[1;32m---> 72\u001b[0m     _, \u001b[38;5;28meval\u001b[39m \u001b[38;5;241m=\u001b[39m \u001b[38;5;28mself\u001b[39m\u001b[38;5;241m.\u001b[39mminimax(new_board, (player \u001b[38;5;241m%\u001b[39m \u001b[38;5;241m2\u001b[39m) \u001b[38;5;241m+\u001b[39m \u001b[38;5;241m1\u001b[39m, depth \u001b[38;5;241m-\u001b[39m \u001b[38;5;241m1\u001b[39m, alpha, beta)\n\u001b[0;32m     73\u001b[0m     \u001b[38;5;28;01mif\u001b[39;00m \u001b[38;5;28meval\u001b[39m \u001b[38;5;241m<\u001b[39m min_eval:\n\u001b[0;32m     74\u001b[0m         min_eval \u001b[38;5;241m=\u001b[39m \u001b[38;5;28meval\u001b[39m\n",
      "File \u001b[1;32mc:\\Users\\santi\\OneDrive\\Escritorio\\IA-obligatorio\\Obligatorio Mayo 2024\\CoinGame\\Minimax_agent.py:59\u001b[0m, in \u001b[0;36mMinimax_agent.minimax\u001b[1;34m(self, board, player, depth, alpha, beta)\u001b[0m\n\u001b[0;32m     57\u001b[0m         \u001b[38;5;28;01mreturn\u001b[39;00m \u001b[38;5;28;01mNone\u001b[39;00m, \u001b[38;5;241m0\u001b[39m\n\u001b[0;32m     58\u001b[0m \u001b[38;5;28;01mif\u001b[39;00m depth \u001b[38;5;241m==\u001b[39m \u001b[38;5;241m0\u001b[39m:\n\u001b[1;32m---> 59\u001b[0m     \u001b[38;5;28;01mreturn\u001b[39;00m \u001b[38;5;28;01mNone\u001b[39;00m, \u001b[38;5;28mself\u001b[39m\u001b[38;5;241m.\u001b[39mheuristic_utility(board)\n\u001b[0;32m     61\u001b[0m possible_actions \u001b[38;5;241m=\u001b[39m board\u001b[38;5;241m.\u001b[39mget_possible_actions()\n\u001b[0;32m     62\u001b[0m actions_and_boards \u001b[38;5;241m=\u001b[39m []\n",
      "File \u001b[1;32mc:\\Users\\santi\\OneDrive\\Escritorio\\IA-obligatorio\\Obligatorio Mayo 2024\\CoinGame\\Minimax_agent.py:14\u001b[0m, in \u001b[0;36mMinimax_agent.heuristic_utility\u001b[1;34m(self, board)\u001b[0m\n\u001b[0;32m     13\u001b[0m \u001b[38;5;28;01mdef\u001b[39;00m \u001b[38;5;21mheuristic_utility\u001b[39m(\u001b[38;5;28mself\u001b[39m, board):\n\u001b[1;32m---> 14\u001b[0m     \u001b[38;5;28;01mreturn\u001b[39;00m \u001b[38;5;28mself\u001b[39m\u001b[38;5;241m.\u001b[39mnim_sum(board) \u001b[38;5;241m+\u001b[39m \u001b[38;5;28mself\u001b[39m\u001b[38;5;241m.\u001b[39msingleCoins(board)\n",
      "\u001b[1;31mAttributeError\u001b[0m: 'Minimax_agent' object has no attribute 'nim_sum'"
     ]
    }
   ],
   "source": [
    "\n",
    "agent1 = Minimax_agent(1)\n",
    "agent12=ExpectimaxAgent(1)\n",
    "play_vs_other_agent(env, agent1, agent2=RandomAgent(2), render=True)"
   ]
  },
  {
   "cell_type": "markdown",
   "metadata": {},
   "source": [
    "Minimax Random Agent vs UONI (Universal Optimization Neural Interface)"
   ]
  },
  {
   "cell_type": "code",
   "execution_count": 3,
   "metadata": {},
   "outputs": [],
   "source": [
    "import matplotlib.pyplot as plt\n",
    "import wandb\n",
    "# Assuming ws is a list of winners\n",
    "def print_graph(ws, level):\n",
    "    wandb.init(project=\"coin_game\")\n",
    "    winners = [\"UONI\", \"Minimax\"]\n",
    "    win_counts = [ws.count(x) for x in [1,2]]\n",
    "\n",
    "    fig, ax = plt.subplots()\n",
    "    plt.bar(winners, win_counts)\n",
    "    \n",
    "    plt.xlabel('Winner Number ' + level)\n",
    "    plt.ylabel('Win Amount')\n",
    "    plt.title('Win Amount per Winner')\n",
    "    plt.show()\n",
    "    return fig"
   ]
  },
  {
   "cell_type": "code",
   "execution_count": 4,
   "metadata": {},
   "outputs": [
    {
     "name": "stderr",
     "output_type": "stream",
     "text": [
      "Failed to detect the name of this notebook, you can set it manually with the WANDB_NOTEBOOK_NAME environment variable to enable code saving.\n",
      "\u001b[34m\u001b[1mwandb\u001b[0m: Currently logged in as: \u001b[33msantimoron001\u001b[0m (\u001b[33mia-santiago-moron\u001b[0m). Use \u001b[1m`wandb login --relogin`\u001b[0m to force relogin\n"
     ]
    },
    {
     "data": {
      "text/html": [
       "Tracking run with wandb version 0.17.4"
      ],
      "text/plain": [
       "<IPython.core.display.HTML object>"
      ]
     },
     "metadata": {},
     "output_type": "display_data"
    },
    {
     "data": {
      "text/html": [
       "Run data is saved locally in <code>c:\\Users\\santi\\OneDrive\\Escritorio\\IA-obligatorio\\Obligatorio Mayo 2024\\CoinGame\\wandb\\run-20240706_005745-j3d3det8</code>"
      ],
      "text/plain": [
       "<IPython.core.display.HTML object>"
      ]
     },
     "metadata": {},
     "output_type": "display_data"
    },
    {
     "data": {
      "text/html": [
       "Syncing run <strong><a href='https://wandb.ai/ia-santiago-moron/coin_game/runs/j3d3det8' target=\"_blank\">happy-capybara-164</a></strong> to <a href='https://wandb.ai/ia-santiago-moron/coin_game' target=\"_blank\">Weights & Biases</a> (<a href='https://wandb.me/run' target=\"_blank\">docs</a>)<br/>"
      ],
      "text/plain": [
       "<IPython.core.display.HTML object>"
      ]
     },
     "metadata": {},
     "output_type": "display_data"
    },
    {
     "data": {
      "text/html": [
       " View project at <a href='https://wandb.ai/ia-santiago-moron/coin_game' target=\"_blank\">https://wandb.ai/ia-santiago-moron/coin_game</a>"
      ],
      "text/plain": [
       "<IPython.core.display.HTML object>"
      ]
     },
     "metadata": {},
     "output_type": "display_data"
    },
    {
     "data": {
      "text/html": [
       " View run at <a href='https://wandb.ai/ia-santiago-moron/coin_game/runs/j3d3det8' target=\"_blank\">https://wandb.ai/ia-santiago-moron/coin_game/runs/j3d3det8</a>"
      ],
      "text/plain": [
       "<IPython.core.display.HTML object>"
      ]
     },
     "metadata": {},
     "output_type": "display_data"
    },
    {
     "name": "stderr",
     "output_type": "stream",
     "text": [
      "100%|██████████| 5/5 [01:08<00:00, 13.75s/it]\n"
     ]
    },
    {
     "data": {
      "text/html": [
       "Finishing last run (ID:j3d3det8) before initializing another..."
      ],
      "text/plain": [
       "<IPython.core.display.HTML object>"
      ]
     },
     "metadata": {},
     "output_type": "display_data"
    },
    {
     "data": {
      "text/html": [
       " View run <strong style=\"color:#cdcd00\">happy-capybara-164</strong> at: <a href='https://wandb.ai/ia-santiago-moron/coin_game/runs/j3d3det8' target=\"_blank\">https://wandb.ai/ia-santiago-moron/coin_game/runs/j3d3det8</a><br/> View project at: <a href='https://wandb.ai/ia-santiago-moron/coin_game' target=\"_blank\">https://wandb.ai/ia-santiago-moron/coin_game</a><br/>Synced 5 W&B file(s), 0 media file(s), 0 artifact file(s) and 0 other file(s)"
      ],
      "text/plain": [
       "<IPython.core.display.HTML object>"
      ]
     },
     "metadata": {},
     "output_type": "display_data"
    },
    {
     "data": {
      "text/html": [
       "Find logs at: <code>.\\wandb\\run-20240706_005745-j3d3det8\\logs</code>"
      ],
      "text/plain": [
       "<IPython.core.display.HTML object>"
      ]
     },
     "metadata": {},
     "output_type": "display_data"
    },
    {
     "data": {
      "text/html": [
       "The new W&B backend becomes opt-out in version 0.18.0; try it out with `wandb.require(\"core\")`! See https://wandb.me/wandb-core for more information."
      ],
      "text/plain": [
       "<IPython.core.display.HTML object>"
      ]
     },
     "metadata": {},
     "output_type": "display_data"
    },
    {
     "data": {
      "text/html": [
       "Successfully finished last run (ID:j3d3det8). Initializing new run:<br/>"
      ],
      "text/plain": [
       "<IPython.core.display.HTML object>"
      ]
     },
     "metadata": {},
     "output_type": "display_data"
    },
    {
     "data": {
      "text/html": [
       "Tracking run with wandb version 0.17.4"
      ],
      "text/plain": [
       "<IPython.core.display.HTML object>"
      ]
     },
     "metadata": {},
     "output_type": "display_data"
    },
    {
     "data": {
      "text/html": [
       "Run data is saved locally in <code>c:\\Users\\santi\\OneDrive\\Escritorio\\IA-obligatorio\\Obligatorio Mayo 2024\\CoinGame\\wandb\\run-20240706_005855-pe1ri5y4</code>"
      ],
      "text/plain": [
       "<IPython.core.display.HTML object>"
      ]
     },
     "metadata": {},
     "output_type": "display_data"
    },
    {
     "data": {
      "text/html": [
       "Syncing run <strong><a href='https://wandb.ai/ia-santiago-moron/coin_game/runs/pe1ri5y4' target=\"_blank\">peach-cloud-165</a></strong> to <a href='https://wandb.ai/ia-santiago-moron/coin_game' target=\"_blank\">Weights & Biases</a> (<a href='https://wandb.me/run' target=\"_blank\">docs</a>)<br/>"
      ],
      "text/plain": [
       "<IPython.core.display.HTML object>"
      ]
     },
     "metadata": {},
     "output_type": "display_data"
    },
    {
     "data": {
      "text/html": [
       " View project at <a href='https://wandb.ai/ia-santiago-moron/coin_game' target=\"_blank\">https://wandb.ai/ia-santiago-moron/coin_game</a>"
      ],
      "text/plain": [
       "<IPython.core.display.HTML object>"
      ]
     },
     "metadata": {},
     "output_type": "display_data"
    },
    {
     "data": {
      "text/html": [
       " View run at <a href='https://wandb.ai/ia-santiago-moron/coin_game/runs/pe1ri5y4' target=\"_blank\">https://wandb.ai/ia-santiago-moron/coin_game/runs/pe1ri5y4</a>"
      ],
      "text/plain": [
       "<IPython.core.display.HTML object>"
      ]
     },
     "metadata": {},
     "output_type": "display_data"
    },
    {
     "data": {
      "image/png": "[encoded data removed]",
      "text/plain": [
       "<Figure size 640x480 with 1 Axes>"
      ]
     },
     "metadata": {},
     "output_type": "display_data"
    },
    {
     "name": "stderr",
     "output_type": "stream",
     "text": [
      "100%|██████████| 5/5 [01:12<00:00, 14.47s/it]\n"
     ]
    },
    {
     "data": {
      "text/html": [
       "Finishing last run (ID:pe1ri5y4) before initializing another..."
      ],
      "text/plain": [
       "<IPython.core.display.HTML object>"
      ]
     },
     "metadata": {},
     "output_type": "display_data"
    },
    {
     "data": {
      "text/html": [
       " View run <strong style=\"color:#cdcd00\">peach-cloud-165</strong> at: <a href='https://wandb.ai/ia-santiago-moron/coin_game/runs/pe1ri5y4' target=\"_blank\">https://wandb.ai/ia-santiago-moron/coin_game/runs/pe1ri5y4</a><br/> View project at: <a href='https://wandb.ai/ia-santiago-moron/coin_game' target=\"_blank\">https://wandb.ai/ia-santiago-moron/coin_game</a><br/>Synced 5 W&B file(s), 1 media file(s), 0 artifact file(s) and 0 other file(s)"
      ],
      "text/plain": [
       "<IPython.core.display.HTML object>"
      ]
     },
     "metadata": {},
     "output_type": "display_data"
    },
    {
     "data": {
      "text/html": [
       "Find logs at: <code>.\\wandb\\run-20240706_005855-pe1ri5y4\\logs</code>"
      ],
      "text/plain": [
       "<IPython.core.display.HTML object>"
      ]
     },
     "metadata": {},
     "output_type": "display_data"
    },
    {
     "data": {
      "text/html": [
       "The new W&B backend becomes opt-out in version 0.18.0; try it out with `wandb.require(\"core\")`! See https://wandb.me/wandb-core for more information."
      ],
      "text/plain": [
       "<IPython.core.display.HTML object>"
      ]
     },
     "metadata": {},
     "output_type": "display_data"
    },
    {
     "data": {
      "text/html": [
       "Successfully finished last run (ID:pe1ri5y4). Initializing new run:<br/>"
      ],
      "text/plain": [
       "<IPython.core.display.HTML object>"
      ]
     },
     "metadata": {},
     "output_type": "display_data"
    },
    {
     "data": {
      "text/html": [
       "Tracking run with wandb version 0.17.4"
      ],
      "text/plain": [
       "<IPython.core.display.HTML object>"
      ]
     },
     "metadata": {},
     "output_type": "display_data"
    },
    {
     "data": {
      "text/html": [
       "Run data is saved locally in <code>c:\\Users\\santi\\OneDrive\\Escritorio\\IA-obligatorio\\Obligatorio Mayo 2024\\CoinGame\\wandb\\run-20240706_010015-ksswhyms</code>"
      ],
      "text/plain": [
       "<IPython.core.display.HTML object>"
      ]
     },
     "metadata": {},
     "output_type": "display_data"
    },
    {
     "data": {
      "text/html": [
       "Syncing run <strong><a href='https://wandb.ai/ia-santiago-moron/coin_game/runs/ksswhyms' target=\"_blank\">genial-valley-166</a></strong> to <a href='https://wandb.ai/ia-santiago-moron/coin_game' target=\"_blank\">Weights & Biases</a> (<a href='https://wandb.me/run' target=\"_blank\">docs</a>)<br/>"
      ],
      "text/plain": [
       "<IPython.core.display.HTML object>"
      ]
     },
     "metadata": {},
     "output_type": "display_data"
    },
    {
     "data": {
      "text/html": [
       " View project at <a href='https://wandb.ai/ia-santiago-moron/coin_game' target=\"_blank\">https://wandb.ai/ia-santiago-moron/coin_game</a>"
      ],
      "text/plain": [
       "<IPython.core.display.HTML object>"
      ]
     },
     "metadata": {},
     "output_type": "display_data"
    },
    {
     "data": {
      "text/html": [
       " View run at <a href='https://wandb.ai/ia-santiago-moron/coin_game/runs/ksswhyms' target=\"_blank\">https://wandb.ai/ia-santiago-moron/coin_game/runs/ksswhyms</a>"
      ],
      "text/plain": [
       "<IPython.core.display.HTML object>"
      ]
     },
     "metadata": {},
     "output_type": "display_data"
    },
    {
     "data": {
      "image/png": "[encoded data removed]",
      "text/plain": [
       "<Figure size 640x480 with 1 Axes>"
      ]
     },
     "metadata": {},
     "output_type": "display_data"
    },
    {
     "data": {
      "text/html": [
       " View run <strong style=\"color:#cdcd00\">genial-valley-166</strong> at: <a href='https://wandb.ai/ia-santiago-moron/coin_game/runs/ksswhyms' target=\"_blank\">https://wandb.ai/ia-santiago-moron/coin_game/runs/ksswhyms</a><br/> View project at: <a href='https://wandb.ai/ia-santiago-moron/coin_game' target=\"_blank\">https://wandb.ai/ia-santiago-moron/coin_game</a><br/>Synced 4 W&B file(s), 1 media file(s), 0 artifact file(s) and 0 other file(s)"
      ],
      "text/plain": [
       "<IPython.core.display.HTML object>"
      ]
     },
     "metadata": {},
     "output_type": "display_data"
    },
    {
     "data": {
      "text/html": [
       "Find logs at: <code>.\\wandb\\run-20240706_010015-ksswhyms\\logs</code>"
      ],
      "text/plain": [
       "<IPython.core.display.HTML object>"
      ]
     },
     "metadata": {},
     "output_type": "display_data"
    },
    {
     "data": {
      "text/html": [
       "The new W&B backend becomes opt-out in version 0.18.0; try it out with `wandb.require(\"core\")`! See https://wandb.me/wandb-core for more information."
      ],
      "text/plain": [
       "<IPython.core.display.HTML object>"
      ]
     },
     "metadata": {},
     "output_type": "display_data"
    }
   ],
   "source": [
    "from tqdm import tqdm\n",
    "import wandb\n",
    "\n",
    "wandb.init(project=\"coin_game\")\n",
    "\n",
    "ws = {'medium':[], 'hard':[]}\n",
    "for level in ['medium', 'hard']:\n",
    "    for i in tqdm(range(5)):\n",
    "        if i%2 == 0:\n",
    "            ws[level].append(play_vs_other_agent(env, agent1=UONI(1, level), agent2=Minimax_agent(2), render=False))\n",
    "        else:\n",
    "            ws[level].append(3-play_vs_other_agent(env, agent1=Minimax_agent(1), agent2=UONI(2, level), render=False))\n",
    "        \n",
    "    fig = print_graph(ws[level], level)\n",
    "    wandb.log({\"Winners\": wandb.Image(fig)})\n",
    "\n",
    "wandb.finish()\n",
    "        "
   ]
  },
  {
   "cell_type": "markdown",
   "metadata": {},
   "source": [
    "UONI vs Expectimax"
   ]
  },
  {
   "cell_type": "code",
   "execution_count": null,
   "metadata": {},
   "outputs": [],
   "source": [
    "import matplotlib.pyplot as plt\n",
    "import wandb\n",
    "# Assuming ws is a list of winners\n",
    "def print_graph(ws, level):\n",
    "    wandb.init(project=\"coin_game\")\n",
    "    winners = [\"UONI\", \"Expectimax\"]\n",
    "    win_counts = [ws.count(x) for x in [1,2]]\n",
    "\n",
    "    fig, ax = plt.subplots()\n",
    "    plt.bar(winners, win_counts)\n",
    "    \n",
    "    plt.xlabel('Winner Number ' + level)\n",
    "    plt.ylabel('Win Amount')\n",
    "    plt.title('Win Amount per Winner')\n",
    "    plt.show()\n",
    "    return fig"
   ]
  },
  {
   "cell_type": "code",
   "execution_count": null,
   "metadata": {},
   "outputs": [
    {
     "data": {
      "text/html": [
       "Finishing last run (ID:jky62tok) before initializing another..."
      ],
      "text/plain": [
       "<IPython.core.display.HTML object>"
      ]
     },
     "metadata": {},
     "output_type": "display_data"
    },
    {
     "data": {
      "text/html": [
       " View run <strong style=\"color:#cdcd00\">stilted-pine-59</strong> at: <a href='https://wandb.ai/ia-santiago-moron/coin_game/runs/jky62tok' target=\"_blank\">https://wandb.ai/ia-santiago-moron/coin_game/runs/jky62tok</a><br/> View project at: <a href='https://wandb.ai/ia-santiago-moron/coin_game' target=\"_blank\">https://wandb.ai/ia-santiago-moron/coin_game</a><br/>Synced 5 W&B file(s), 0 media file(s), 0 artifact file(s) and 0 other file(s)"
      ],
      "text/plain": [
       "<IPython.core.display.HTML object>"
      ]
     },
     "metadata": {},
     "output_type": "display_data"
    },
    {
     "data": {
      "text/html": [
       "Find logs at: <code>.\\wandb\\run-20240705_212655-jky62tok\\logs</code>"
      ],
      "text/plain": [
       "<IPython.core.display.HTML object>"
      ]
     },
     "metadata": {},
     "output_type": "display_data"
    },
    {
     "data": {
      "text/html": [
       "The new W&B backend becomes opt-out in version 0.18.0; try it out with `wandb.require(\"core\")`! See https://wandb.me/wandb-core for more information."
      ],
      "text/plain": [
       "<IPython.core.display.HTML object>"
      ]
     },
     "metadata": {},
     "output_type": "display_data"
    },
    {
     "data": {
      "text/html": [
       "Successfully finished last run (ID:jky62tok). Initializing new run:<br/>"
      ],
      "text/plain": [
       "<IPython.core.display.HTML object>"
      ]
     },
     "metadata": {},
     "output_type": "display_data"
    },
    {
     "data": {
      "text/html": [
       "Tracking run with wandb version 0.17.4"
      ],
      "text/plain": [
       "<IPython.core.display.HTML object>"
      ]
     },
     "metadata": {},
     "output_type": "display_data"
    },
    {
     "data": {
      "text/html": [
       "Run data is saved locally in <code>c:\\Users\\santi\\OneDrive\\Escritorio\\IA-obligatorio\\Obligatorio Mayo 2024\\CoinGame\\wandb\\run-20240705_215317-lte8uofh</code>"
      ],
      "text/plain": [
       "<IPython.core.display.HTML object>"
      ]
     },
     "metadata": {},
     "output_type": "display_data"
    },
    {
     "data": {
      "text/html": [
       "Syncing run <strong><a href='https://wandb.ai/ia-santiago-moron/coin_game/runs/lte8uofh' target=\"_blank\">solar-darkness-60</a></strong> to <a href='https://wandb.ai/ia-santiago-moron/coin_game' target=\"_blank\">Weights & Biases</a> (<a href='https://wandb.me/run' target=\"_blank\">docs</a>)<br/>"
      ],
      "text/plain": [
       "<IPython.core.display.HTML object>"
      ]
     },
     "metadata": {},
     "output_type": "display_data"
    },
    {
     "data": {
      "text/html": [
       " View project at <a href='https://wandb.ai/ia-santiago-moron/coin_game' target=\"_blank\">https://wandb.ai/ia-santiago-moron/coin_game</a>"
      ],
      "text/plain": [
       "<IPython.core.display.HTML object>"
      ]
     },
     "metadata": {},
     "output_type": "display_data"
    },
    {
     "data": {
      "text/html": [
       " View run at <a href='https://wandb.ai/ia-santiago-moron/coin_game/runs/lte8uofh' target=\"_blank\">https://wandb.ai/ia-santiago-moron/coin_game/runs/lte8uofh</a>"
      ],
      "text/plain": [
       "<IPython.core.display.HTML object>"
      ]
     },
     "metadata": {},
     "output_type": "display_data"
    },
    {
     "name": "stderr",
     "output_type": "stream",
     "text": [
      "100%|██████████| 5/5 [02:55<00:00, 35.08s/it]\n"
     ]
    },
    {
     "data": {
      "text/html": [
       "Finishing last run (ID:lte8uofh) before initializing another..."
      ],
      "text/plain": [
       "<IPython.core.display.HTML object>"
      ]
     },
     "metadata": {},
     "output_type": "display_data"
    },
    {
     "data": {
      "text/html": [
       " View run <strong style=\"color:#cdcd00\">solar-darkness-60</strong> at: <a href='https://wandb.ai/ia-santiago-moron/coin_game/runs/lte8uofh' target=\"_blank\">https://wandb.ai/ia-santiago-moron/coin_game/runs/lte8uofh</a><br/> View project at: <a href='https://wandb.ai/ia-santiago-moron/coin_game' target=\"_blank\">https://wandb.ai/ia-santiago-moron/coin_game</a><br/>Synced 5 W&B file(s), 0 media file(s), 0 artifact file(s) and 0 other file(s)"
      ],
      "text/plain": [
       "<IPython.core.display.HTML object>"
      ]
     },
     "metadata": {},
     "output_type": "display_data"
    },
    {
     "data": {
      "text/html": [
       "Find logs at: <code>.\\wandb\\run-20240705_215317-lte8uofh\\logs</code>"
      ],
      "text/plain": [
       "<IPython.core.display.HTML object>"
      ]
     },
     "metadata": {},
     "output_type": "display_data"
    },
    {
     "data": {
      "text/html": [
       "The new W&B backend becomes opt-out in version 0.18.0; try it out with `wandb.require(\"core\")`! See https://wandb.me/wandb-core for more information."
      ],
      "text/plain": [
       "<IPython.core.display.HTML object>"
      ]
     },
     "metadata": {},
     "output_type": "display_data"
    },
    {
     "data": {
      "text/html": [
       "Successfully finished last run (ID:lte8uofh). Initializing new run:<br/>"
      ],
      "text/plain": [
       "<IPython.core.display.HTML object>"
      ]
     },
     "metadata": {},
     "output_type": "display_data"
    },
    {
     "data": {
      "text/html": [
       "Tracking run with wandb version 0.17.4"
      ],
      "text/plain": [
       "<IPython.core.display.HTML object>"
      ]
     },
     "metadata": {},
     "output_type": "display_data"
    },
    {
     "data": {
      "text/html": [
       "Run data is saved locally in <code>c:\\Users\\santi\\OneDrive\\Escritorio\\IA-obligatorio\\Obligatorio Mayo 2024\\CoinGame\\wandb\\run-20240705_215619-mujat289</code>"
      ],
      "text/plain": [
       "<IPython.core.display.HTML object>"
      ]
     },
     "metadata": {},
     "output_type": "display_data"
    },
    {
     "data": {
      "text/html": [
       "Syncing run <strong><a href='https://wandb.ai/ia-santiago-moron/coin_game/runs/mujat289' target=\"_blank\">charmed-plasma-61</a></strong> to <a href='https://wandb.ai/ia-santiago-moron/coin_game' target=\"_blank\">Weights & Biases</a> (<a href='https://wandb.me/run' target=\"_blank\">docs</a>)<br/>"
      ],
      "text/plain": [
       "<IPython.core.display.HTML object>"
      ]
     },
     "metadata": {},
     "output_type": "display_data"
    },
    {
     "data": {
      "text/html": [
       " View project at <a href='https://wandb.ai/ia-santiago-moron/coin_game' target=\"_blank\">https://wandb.ai/ia-santiago-moron/coin_game</a>"
      ],
      "text/plain": [
       "<IPython.core.display.HTML object>"
      ]
     },
     "metadata": {},
     "output_type": "display_data"
    },
    {
     "data": {
      "text/html": [
       " View run at <a href='https://wandb.ai/ia-santiago-moron/coin_game/runs/mujat289' target=\"_blank\">https://wandb.ai/ia-santiago-moron/coin_game/runs/mujat289</a>"
      ],
      "text/plain": [
       "<IPython.core.display.HTML object>"
      ]
     },
     "metadata": {},
     "output_type": "display_data"
    },
    {
     "data": {
      "image/png": "[encoded data removed]",
      "text/plain": [
       "<Figure size 640x480 with 1 Axes>"
      ]
     },
     "metadata": {},
     "output_type": "display_data"
    },
    {
     "name": "stderr",
     "output_type": "stream",
     "text": [
      "100%|██████████| 5/5 [06:29<00:00, 77.87s/it] \n"
     ]
    },
    {
     "data": {
      "text/html": [
       "Finishing last run (ID:mujat289) before initializing another..."
      ],
      "text/plain": [
       "<IPython.core.display.HTML object>"
      ]
     },
     "metadata": {},
     "output_type": "display_data"
    },
    {
     "data": {
      "text/html": [
       " View run <strong style=\"color:#cdcd00\">charmed-plasma-61</strong> at: <a href='https://wandb.ai/ia-santiago-moron/coin_game/runs/mujat289' target=\"_blank\">https://wandb.ai/ia-santiago-moron/coin_game/runs/mujat289</a><br/> View project at: <a href='https://wandb.ai/ia-santiago-moron/coin_game' target=\"_blank\">https://wandb.ai/ia-santiago-moron/coin_game</a><br/>Synced 5 W&B file(s), 1 media file(s), 0 artifact file(s) and 0 other file(s)"
      ],
      "text/plain": [
       "<IPython.core.display.HTML object>"
      ]
     },
     "metadata": {},
     "output_type": "display_data"
    },
    {
     "data": {
      "text/html": [
       "Find logs at: <code>.\\wandb\\run-20240705_215619-mujat289\\logs</code>"
      ],
      "text/plain": [
       "<IPython.core.display.HTML object>"
      ]
     },
     "metadata": {},
     "output_type": "display_data"
    },
    {
     "data": {
      "text/html": [
       "The new W&B backend becomes opt-out in version 0.18.0; try it out with `wandb.require(\"core\")`! See https://wandb.me/wandb-core for more information."
      ],
      "text/plain": [
       "<IPython.core.display.HTML object>"
      ]
     },
     "metadata": {},
     "output_type": "display_data"
    },
    {
     "data": {
      "text/html": [
       "Successfully finished last run (ID:mujat289). Initializing new run:<br/>"
      ],
      "text/plain": [
       "<IPython.core.display.HTML object>"
      ]
     },
     "metadata": {},
     "output_type": "display_data"
    },
    {
     "data": {
      "text/html": [
       "Tracking run with wandb version 0.17.4"
      ],
      "text/plain": [
       "<IPython.core.display.HTML object>"
      ]
     },
     "metadata": {},
     "output_type": "display_data"
    },
    {
     "data": {
      "text/html": [
       "Run data is saved locally in <code>c:\\Users\\santi\\OneDrive\\Escritorio\\IA-obligatorio\\Obligatorio Mayo 2024\\CoinGame\\wandb\\run-20240705_220256-8njy29ah</code>"
      ],
      "text/plain": [
       "<IPython.core.display.HTML object>"
      ]
     },
     "metadata": {},
     "output_type": "display_data"
    },
    {
     "data": {
      "text/html": [
       "Syncing run <strong><a href='https://wandb.ai/ia-santiago-moron/coin_game/runs/8njy29ah' target=\"_blank\">fragrant-pyramid-62</a></strong> to <a href='https://wandb.ai/ia-santiago-moron/coin_game' target=\"_blank\">Weights & Biases</a> (<a href='https://wandb.me/run' target=\"_blank\">docs</a>)<br/>"
      ],
      "text/plain": [
       "<IPython.core.display.HTML object>"
      ]
     },
     "metadata": {},
     "output_type": "display_data"
    },
    {
     "data": {
      "text/html": [
       " View project at <a href='https://wandb.ai/ia-santiago-moron/coin_game' target=\"_blank\">https://wandb.ai/ia-santiago-moron/coin_game</a>"
      ],
      "text/plain": [
       "<IPython.core.display.HTML object>"
      ]
     },
     "metadata": {},
     "output_type": "display_data"
    },
    {
     "data": {
      "text/html": [
       " View run at <a href='https://wandb.ai/ia-santiago-moron/coin_game/runs/8njy29ah' target=\"_blank\">https://wandb.ai/ia-santiago-moron/coin_game/runs/8njy29ah</a>"
      ],
      "text/plain": [
       "<IPython.core.display.HTML object>"
      ]
     },
     "metadata": {},
     "output_type": "display_data"
    },
    {
     "data": {
      "image/png": "[encoded data removed]",
      "text/plain": [
       "<Figure size 640x480 with 1 Axes>"
      ]
     },
     "metadata": {},
     "output_type": "display_data"
    },
    {
     "name": "stderr",
     "output_type": "stream",
     "text": [
      "100%|██████████| 5/5 [06:20<00:00, 76.09s/it]\n"
     ]
    },
    {
     "data": {
      "text/html": [
       "Finishing last run (ID:8njy29ah) before initializing another..."
      ],
      "text/plain": [
       "<IPython.core.display.HTML object>"
      ]
     },
     "metadata": {},
     "output_type": "display_data"
    },
    {
     "data": {
      "text/html": [
       " View run <strong style=\"color:#cdcd00\">fragrant-pyramid-62</strong> at: <a href='https://wandb.ai/ia-santiago-moron/coin_game/runs/8njy29ah' target=\"_blank\">https://wandb.ai/ia-santiago-moron/coin_game/runs/8njy29ah</a><br/> View project at: <a href='https://wandb.ai/ia-santiago-moron/coin_game' target=\"_blank\">https://wandb.ai/ia-santiago-moron/coin_game</a><br/>Synced 5 W&B file(s), 1 media file(s), 0 artifact file(s) and 0 other file(s)"
      ],
      "text/plain": [
       "<IPython.core.display.HTML object>"
      ]
     },
     "metadata": {},
     "output_type": "display_data"
    },
    {
     "data": {
      "text/html": [
       "Find logs at: <code>.\\wandb\\run-20240705_220256-8njy29ah\\logs</code>"
      ],
      "text/plain": [
       "<IPython.core.display.HTML object>"
      ]
     },
     "metadata": {},
     "output_type": "display_data"
    },
    {
     "data": {
      "text/html": [
       "The new W&B backend becomes opt-out in version 0.18.0; try it out with `wandb.require(\"core\")`! See https://wandb.me/wandb-core for more information."
      ],
      "text/plain": [
       "<IPython.core.display.HTML object>"
      ]
     },
     "metadata": {},
     "output_type": "display_data"
    },
    {
     "data": {
      "text/html": [
       "Successfully finished last run (ID:8njy29ah). Initializing new run:<br/>"
      ],
      "text/plain": [
       "<IPython.core.display.HTML object>"
      ]
     },
     "metadata": {},
     "output_type": "display_data"
    },
    {
     "data": {
      "text/html": [
       "Tracking run with wandb version 0.17.4"
      ],
      "text/plain": [
       "<IPython.core.display.HTML object>"
      ]
     },
     "metadata": {},
     "output_type": "display_data"
    },
    {
     "data": {
      "text/html": [
       "Run data is saved locally in <code>c:\\Users\\santi\\OneDrive\\Escritorio\\IA-obligatorio\\Obligatorio Mayo 2024\\CoinGame\\wandb\\run-20240705_220922-v5091lc6</code>"
      ],
      "text/plain": [
       "<IPython.core.display.HTML object>"
      ]
     },
     "metadata": {},
     "output_type": "display_data"
    },
    {
     "data": {
      "text/html": [
       "Syncing run <strong><a href='https://wandb.ai/ia-santiago-moron/coin_game/runs/v5091lc6' target=\"_blank\">rare-bee-63</a></strong> to <a href='https://wandb.ai/ia-santiago-moron/coin_game' target=\"_blank\">Weights & Biases</a> (<a href='https://wandb.me/run' target=\"_blank\">docs</a>)<br/>"
      ],
      "text/plain": [
       "<IPython.core.display.HTML object>"
      ]
     },
     "metadata": {},
     "output_type": "display_data"
    },
    {
     "data": {
      "text/html": [
       " View project at <a href='https://wandb.ai/ia-santiago-moron/coin_game' target=\"_blank\">https://wandb.ai/ia-santiago-moron/coin_game</a>"
      ],
      "text/plain": [
       "<IPython.core.display.HTML object>"
      ]
     },
     "metadata": {},
     "output_type": "display_data"
    },
    {
     "data": {
      "text/html": [
       " View run at <a href='https://wandb.ai/ia-santiago-moron/coin_game/runs/v5091lc6' target=\"_blank\">https://wandb.ai/ia-santiago-moron/coin_game/runs/v5091lc6</a>"
      ],
      "text/plain": [
       "<IPython.core.display.HTML object>"
      ]
     },
     "metadata": {},
     "output_type": "display_data"
    },
    {
     "data": {
      "image/png": "[encoded data removed]",
      "text/plain": [
       "<Figure size 640x480 with 1 Axes>"
      ]
     },
     "metadata": {},
     "output_type": "display_data"
    },
    {
     "data": {
      "text/html": [
       " View run <strong style=\"color:#cdcd00\">rare-bee-63</strong> at: <a href='https://wandb.ai/ia-santiago-moron/coin_game/runs/v5091lc6' target=\"_blank\">https://wandb.ai/ia-santiago-moron/coin_game/runs/v5091lc6</a><br/> View project at: <a href='https://wandb.ai/ia-santiago-moron/coin_game' target=\"_blank\">https://wandb.ai/ia-santiago-moron/coin_game</a><br/>Synced 4 W&B file(s), 1 media file(s), 0 artifact file(s) and 0 other file(s)"
      ],
      "text/plain": [
       "<IPython.core.display.HTML object>"
      ]
     },
     "metadata": {},
     "output_type": "display_data"
    },
    {
     "data": {
      "text/html": [
       "Find logs at: <code>.\\wandb\\run-20240705_220922-v5091lc6\\logs</code>"
      ],
      "text/plain": [
       "<IPython.core.display.HTML object>"
      ]
     },
     "metadata": {},
     "output_type": "display_data"
    },
    {
     "data": {
      "text/html": [
       "The new W&B backend becomes opt-out in version 0.18.0; try it out with `wandb.require(\"core\")`! See https://wandb.me/wandb-core for more information."
      ],
      "text/plain": [
       "<IPython.core.display.HTML object>"
      ]
     },
     "metadata": {},
     "output_type": "display_data"
    }
   ],
   "source": [
    "from tqdm import tqdm\n",
    "import wandb\n",
    "wandb.init(project=\"coin_game\")\n",
    "ws = {'easy':[], 'medium':[], 'hard':[]}\n",
    "for level in ['easy', 'medium', 'hard']:\n",
    "    for i in tqdm(range(5)):\n",
    "        if i%2 == 0:\n",
    "            ws[level].append(play_vs_other_agent(env, agent1=UONI(1, level), agent2=ExpectimaxAgent(2), render=False))\n",
    "        else:\n",
    "            ws[level].append(3-play_vs_other_agent(env, agent1=ExpectimaxAgent(1), agent2=UONI(2, level), render=False))\n",
    "    fig = print_graph(ws[level], level)\n",
    "    wandb.log({\"Winners\": wandb.Image(fig)})\n",
    "\n",
    "wandb.finish()"
   ]
  },
  {
   "cell_type": "markdown",
   "metadata": {},
   "source": [
    "Testing entre agentes propios"
   ]
  },
  {
   "cell_type": "code",
   "execution_count": 4,
   "metadata": {},
   "outputs": [],
   "source": [
    "import matplotlib.pyplot as plt\n",
    "# Assuming ws is a list of winners\n",
    "def print_graph(ws, level):\n",
    "    winners = [\"Expectimax\", \"Minimax\"]\n",
    "    win_counts = [ws.count(x) for x in [1,2]]\n",
    "\n",
    "    plt.bar(winners, win_counts)\n",
    "    plt.xlabel('Winner Number ' + level)\n",
    "    plt.ylabel('Win Amount')\n",
    "    plt.title('Win Amount per Winner')\n",
    "    plt.show()"
   ]
  },
  {
   "cell_type": "code",
   "execution_count": 8,
   "metadata": {},
   "outputs": [
    {
     "name": "stderr",
     "output_type": "stream",
     "text": [
      "100%|██████████| 20/20 [03:29<00:00, 10.48s/it]\n"
     ]
    },
    {
     "data": {
      "image/png": "[encoded data removed]",
      "text/plain": [
       "<Figure size 640x480 with 1 Axes>"
      ]
     },
     "metadata": {},
     "output_type": "display_data"
    },
    {
     "name": "stderr",
     "output_type": "stream",
     "text": [
      " 60%|██████    | 12/20 [01:19<00:52,  6.60s/it]\n"
     ]
    },
    {
     "ename": "KeyboardInterrupt",
     "evalue": "",
     "output_type": "error",
     "traceback": [
      "\u001b[1;31m---------------------------------------------------------------------------\u001b[0m",
      "\u001b[1;31mKeyboardInterrupt\u001b[0m                         Traceback (most recent call last)",
      "Cell \u001b[1;32mIn[8], line 7\u001b[0m\n\u001b[0;32m      5\u001b[0m \u001b[38;5;28;01mfor\u001b[39;00m i \u001b[38;5;129;01min\u001b[39;00m tqdm(\u001b[38;5;28mrange\u001b[39m(\u001b[38;5;241m20\u001b[39m)):\n\u001b[0;32m      6\u001b[0m     \u001b[38;5;28;01mif\u001b[39;00m i\u001b[38;5;241m%\u001b[39m\u001b[38;5;241m2\u001b[39m \u001b[38;5;241m==\u001b[39m \u001b[38;5;241m0\u001b[39m:\n\u001b[1;32m----> 7\u001b[0m         ws[\u001b[38;5;124m'\u001b[39m\u001b[38;5;124measy\u001b[39m\u001b[38;5;124m'\u001b[39m]\u001b[38;5;241m.\u001b[39mappend(play_vs_other_agent(env, agent1\u001b[38;5;241m=\u001b[39mExpectimaxAgent(\u001b[38;5;241m1\u001b[39m), agent2\u001b[38;5;241m=\u001b[39mMinimax_agent(\u001b[38;5;241m2\u001b[39m), render\u001b[38;5;241m=\u001b[39m\u001b[38;5;28;01mFalse\u001b[39;00m))\n\u001b[0;32m      8\u001b[0m     \u001b[38;5;28;01melse\u001b[39;00m:\n\u001b[0;32m      9\u001b[0m         ws[\u001b[38;5;124m'\u001b[39m\u001b[38;5;124measy\u001b[39m\u001b[38;5;124m'\u001b[39m]\u001b[38;5;241m.\u001b[39mappend(\u001b[38;5;241m3\u001b[39m\u001b[38;5;241m-\u001b[39mplay_vs_other_agent(env, agent1\u001b[38;5;241m=\u001b[39mMinimax_agent(\u001b[38;5;241m1\u001b[39m), agent2\u001b[38;5;241m=\u001b[39mExpectimaxAgent(\u001b[38;5;241m1\u001b[39m), render\u001b[38;5;241m=\u001b[39m\u001b[38;5;28;01mFalse\u001b[39;00m))\n",
      "File \u001b[1;32mc:\\Users\\santi\\OneDrive\\Escritorio\\IA-obligatorio\\Obligatorio Mayo 2024\\CoinGame\\play.py:18\u001b[0m, in \u001b[0;36mplay_vs_other_agent\u001b[1;34m(env, agent1, agent2, render)\u001b[0m\n\u001b[0;32m     16\u001b[0m     \u001b[38;5;28;01mif\u001b[39;00m render: env\u001b[38;5;241m.\u001b[39mrender()\n\u001b[0;32m     17\u001b[0m     \u001b[38;5;28;01mif\u001b[39;00m \u001b[38;5;129;01mnot\u001b[39;00m done:\n\u001b[1;32m---> 18\u001b[0m         next_action \u001b[38;5;241m=\u001b[39m agent2\u001b[38;5;241m.\u001b[39mnext_action(obs)\n\u001b[0;32m     19\u001b[0m         _, _, done, winner, _ \u001b[38;5;241m=\u001b[39m env\u001b[38;5;241m.\u001b[39mstep(next_action)\n\u001b[0;32m     21\u001b[0m \u001b[38;5;28;01mif\u001b[39;00m render: env\u001b[38;5;241m.\u001b[39mrender()\n",
      "File \u001b[1;32mc:\\Users\\santi\\OneDrive\\Escritorio\\IA-obligatorio\\Obligatorio Mayo 2024\\CoinGame\\Minimax_agent.py:10\u001b[0m, in \u001b[0;36mMinimax_agent.next_action\u001b[1;34m(self, board)\u001b[0m\n\u001b[0;32m      9\u001b[0m \u001b[38;5;28;01mdef\u001b[39;00m \u001b[38;5;21mnext_action\u001b[39m(\u001b[38;5;28mself\u001b[39m, board):\n\u001b[1;32m---> 10\u001b[0m     action, _ \u001b[38;5;241m=\u001b[39m \u001b[38;5;28mself\u001b[39m\u001b[38;5;241m.\u001b[39mminimax(board, \u001b[38;5;28mself\u001b[39m\u001b[38;5;241m.\u001b[39mplayer, \u001b[38;5;241m4\u001b[39m, \u001b[38;5;28mfloat\u001b[39m(\u001b[38;5;124m'\u001b[39m\u001b[38;5;124m-inf\u001b[39m\u001b[38;5;124m'\u001b[39m), \u001b[38;5;28mfloat\u001b[39m(\u001b[38;5;124m'\u001b[39m\u001b[38;5;124minf\u001b[39m\u001b[38;5;124m'\u001b[39m))\n\u001b[0;32m     11\u001b[0m     \u001b[38;5;28;01mreturn\u001b[39;00m action\n",
      "File \u001b[1;32mc:\\Users\\santi\\OneDrive\\Escritorio\\IA-obligatorio\\Obligatorio Mayo 2024\\CoinGame\\Minimax_agent.py:84\u001b[0m, in \u001b[0;36mMinimax_agent.minimax\u001b[1;34m(self, board, player, depth, alpha, beta)\u001b[0m\n\u001b[0;32m     82\u001b[0m max_eval \u001b[38;5;241m=\u001b[39m \u001b[38;5;28mfloat\u001b[39m(\u001b[38;5;124m'\u001b[39m\u001b[38;5;124m-inf\u001b[39m\u001b[38;5;124m'\u001b[39m)\n\u001b[0;32m     83\u001b[0m \u001b[38;5;28;01mfor\u001b[39;00m action, new_board \u001b[38;5;129;01min\u001b[39;00m actions_and_boards:\n\u001b[1;32m---> 84\u001b[0m     _, \u001b[38;5;28meval\u001b[39m \u001b[38;5;241m=\u001b[39m \u001b[38;5;28mself\u001b[39m\u001b[38;5;241m.\u001b[39mminimax(new_board, (player \u001b[38;5;241m%\u001b[39m \u001b[38;5;241m2\u001b[39m) \u001b[38;5;241m+\u001b[39m \u001b[38;5;241m1\u001b[39m, depth \u001b[38;5;241m-\u001b[39m \u001b[38;5;241m1\u001b[39m, alpha, beta)\n\u001b[0;32m     85\u001b[0m     \u001b[38;5;28;01mif\u001b[39;00m \u001b[38;5;28meval\u001b[39m \u001b[38;5;241m>\u001b[39m max_eval:\n\u001b[0;32m     86\u001b[0m         max_eval \u001b[38;5;241m=\u001b[39m \u001b[38;5;28meval\u001b[39m\n",
      "File \u001b[1;32mc:\\Users\\santi\\OneDrive\\Escritorio\\IA-obligatorio\\Obligatorio Mayo 2024\\CoinGame\\Minimax_agent.py:72\u001b[0m, in \u001b[0;36mMinimax_agent.minimax\u001b[1;34m(self, board, player, depth, alpha, beta)\u001b[0m\n\u001b[0;32m     70\u001b[0m min_eval \u001b[38;5;241m=\u001b[39m \u001b[38;5;28mfloat\u001b[39m(\u001b[38;5;124m'\u001b[39m\u001b[38;5;124minf\u001b[39m\u001b[38;5;124m'\u001b[39m)\n\u001b[0;32m     71\u001b[0m \u001b[38;5;28;01mfor\u001b[39;00m action, new_board \u001b[38;5;129;01min\u001b[39;00m actions_and_boards:\n\u001b[1;32m---> 72\u001b[0m     _, \u001b[38;5;28meval\u001b[39m \u001b[38;5;241m=\u001b[39m \u001b[38;5;28mself\u001b[39m\u001b[38;5;241m.\u001b[39mminimax(new_board, (player \u001b[38;5;241m%\u001b[39m \u001b[38;5;241m2\u001b[39m) \u001b[38;5;241m+\u001b[39m \u001b[38;5;241m1\u001b[39m, depth \u001b[38;5;241m-\u001b[39m \u001b[38;5;241m1\u001b[39m, alpha, beta)\n\u001b[0;32m     73\u001b[0m     \u001b[38;5;28;01mif\u001b[39;00m \u001b[38;5;28meval\u001b[39m \u001b[38;5;241m<\u001b[39m min_eval:\n\u001b[0;32m     74\u001b[0m         min_eval \u001b[38;5;241m=\u001b[39m \u001b[38;5;28meval\u001b[39m\n",
      "File \u001b[1;32mc:\\Users\\santi\\OneDrive\\Escritorio\\IA-obligatorio\\Obligatorio Mayo 2024\\CoinGame\\Minimax_agent.py:84\u001b[0m, in \u001b[0;36mMinimax_agent.minimax\u001b[1;34m(self, board, player, depth, alpha, beta)\u001b[0m\n\u001b[0;32m     82\u001b[0m max_eval \u001b[38;5;241m=\u001b[39m \u001b[38;5;28mfloat\u001b[39m(\u001b[38;5;124m'\u001b[39m\u001b[38;5;124m-inf\u001b[39m\u001b[38;5;124m'\u001b[39m)\n\u001b[0;32m     83\u001b[0m \u001b[38;5;28;01mfor\u001b[39;00m action, new_board \u001b[38;5;129;01min\u001b[39;00m actions_and_boards:\n\u001b[1;32m---> 84\u001b[0m     _, \u001b[38;5;28meval\u001b[39m \u001b[38;5;241m=\u001b[39m \u001b[38;5;28mself\u001b[39m\u001b[38;5;241m.\u001b[39mminimax(new_board, (player \u001b[38;5;241m%\u001b[39m \u001b[38;5;241m2\u001b[39m) \u001b[38;5;241m+\u001b[39m \u001b[38;5;241m1\u001b[39m, depth \u001b[38;5;241m-\u001b[39m \u001b[38;5;241m1\u001b[39m, alpha, beta)\n\u001b[0;32m     85\u001b[0m     \u001b[38;5;28;01mif\u001b[39;00m \u001b[38;5;28meval\u001b[39m \u001b[38;5;241m>\u001b[39m max_eval:\n\u001b[0;32m     86\u001b[0m         max_eval \u001b[38;5;241m=\u001b[39m \u001b[38;5;28meval\u001b[39m\n",
      "File \u001b[1;32mc:\\Users\\santi\\OneDrive\\Escritorio\\IA-obligatorio\\Obligatorio Mayo 2024\\CoinGame\\Minimax_agent.py:64\u001b[0m, in \u001b[0;36mMinimax_agent.minimax\u001b[1;34m(self, board, player, depth, alpha, beta)\u001b[0m\n\u001b[0;32m     62\u001b[0m actions_and_boards \u001b[38;5;241m=\u001b[39m []\n\u001b[0;32m     63\u001b[0m \u001b[38;5;28;01mfor\u001b[39;00m action \u001b[38;5;129;01min\u001b[39;00m possible_actions:\n\u001b[1;32m---> 64\u001b[0m     new_board \u001b[38;5;241m=\u001b[39m board\u001b[38;5;241m.\u001b[39mclone()\n\u001b[0;32m     65\u001b[0m     new_board\u001b[38;5;241m.\u001b[39mplay(action)\n\u001b[0;32m     66\u001b[0m     actions_and_boards\u001b[38;5;241m.\u001b[39mappend((action, new_board))\n",
      "File \u001b[1;32mc:\\Users\\santi\\OneDrive\\Escritorio\\IA-obligatorio\\Obligatorio Mayo 2024\\CoinGame\\board.py:62\u001b[0m, in \u001b[0;36mBoard.clone\u001b[1;34m(self)\u001b[0m\n\u001b[0;32m     60\u001b[0m \u001b[38;5;250m\u001b[39m\u001b[38;5;124;03m\"\"\"Devuelve una copia del tablero\"\"\"\u001b[39;00m\n\u001b[0;32m     61\u001b[0m board_clone \u001b[38;5;241m=\u001b[39m Board(board_size\u001b[38;5;241m=\u001b[39m\u001b[38;5;28mself\u001b[39m\u001b[38;5;241m.\u001b[39mboard_size)\n\u001b[1;32m---> 62\u001b[0m board_clone\u001b[38;5;241m.\u001b[39mgrid \u001b[38;5;241m=\u001b[39m np\u001b[38;5;241m.\u001b[39mcopy(\u001b[38;5;28mself\u001b[39m\u001b[38;5;241m.\u001b[39mgrid)\n\u001b[0;32m     63\u001b[0m \u001b[38;5;28;01mreturn\u001b[39;00m board_clone\n",
      "File \u001b[1;32mc:\\Users\\santi\\anaconda3\\envs\\gym\\Lib\\site-packages\\numpy\\lib\\function_base.py:962\u001b[0m, in \u001b[0;36mcopy\u001b[1;34m(a, order, subok)\u001b[0m\n\u001b[0;32m    873\u001b[0m \u001b[38;5;129m@array_function_dispatch\u001b[39m(_copy_dispatcher)\n\u001b[0;32m    874\u001b[0m \u001b[38;5;28;01mdef\u001b[39;00m \u001b[38;5;21mcopy\u001b[39m(a, order\u001b[38;5;241m=\u001b[39m\u001b[38;5;124m'\u001b[39m\u001b[38;5;124mK\u001b[39m\u001b[38;5;124m'\u001b[39m, subok\u001b[38;5;241m=\u001b[39m\u001b[38;5;28;01mFalse\u001b[39;00m):\n\u001b[0;32m    875\u001b[0m \u001b[38;5;250m    \u001b[39m\u001b[38;5;124;03m\"\"\"\u001b[39;00m\n\u001b[0;32m    876\u001b[0m \u001b[38;5;124;03m    Return an array copy of the given object.\u001b[39;00m\n\u001b[0;32m    877\u001b[0m \n\u001b[1;32m   (...)\u001b[0m\n\u001b[0;32m    960\u001b[0m \n\u001b[0;32m    961\u001b[0m \u001b[38;5;124;03m    \"\"\"\u001b[39;00m\n\u001b[1;32m--> 962\u001b[0m     \u001b[38;5;28;01mreturn\u001b[39;00m array(a, order\u001b[38;5;241m=\u001b[39morder, subok\u001b[38;5;241m=\u001b[39msubok, copy\u001b[38;5;241m=\u001b[39m\u001b[38;5;28;01mTrue\u001b[39;00m)\n",
      "\u001b[1;31mKeyboardInterrupt\u001b[0m: "
     ]
    }
   ],
   "source": [
    "from tqdm import tqdm\n",
    "\n",
    "ws = {'tests':[]}\n",
    "for i in tqdm(range(20)):\n",
    "    if i%2 == 0:\n",
    "        ws['tests'].append(play_vs_other_agent(env, agent1=ExpectimaxAgent(1), agent2=Minimax_agent(2), render=False))\n",
    "    else:\n",
    "        ws['tests'].append(3-play_vs_other_agent(env, agent1=Minimax_agent(1), agent2=ExpectimaxAgent(1), render=False))\n",
    "print_graph(ws['tests'], 'tests')"
   ]
  }
 ],
 "metadata": {
  "kernelspec": {
   "display_name": "Python 3",
   "language": "python",
   "name": "python3"
  },
  "language_info": {
   "codemirror_mode": {
    "name": "ipython",
    "version": 3
   },
   "file_extension": ".py",
   "mimetype": "text/x-python",
   "name": "python",
   "nbconvert_exporter": "python",
   "pygments_lexer": "ipython3",
   "version": "3.12.2"
  }
 },
 "nbformat": 4,
 "nbformat_minor": 2
}
