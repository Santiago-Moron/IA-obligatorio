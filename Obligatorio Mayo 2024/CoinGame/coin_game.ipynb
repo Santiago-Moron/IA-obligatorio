{
 "cells": [
  {
   "cell_type": "code",
   "execution_count": 1,
   "metadata": {},
   "outputs": [],
   "source": [
    "#!pip install tabulate\n",
    "from coin_game_env import CoinGameEnv\n",
    "from input_agent import InputAgent\n",
    "from random_agent import RandomAgent\n",
    "from play import play_vs_other_agent\n",
    "from UONI import UONI\n",
    "from Minimax_agent import Minimax_agent"
   ]
  },
  {
   "cell_type": "code",
   "execution_count": 2,
   "metadata": {},
   "outputs": [],
   "source": [
    "env = CoinGameEnv(grid_size=5)\n",
    "input_agent = InputAgent()"
   ]
  },
  {
   "cell_type": "markdown",
   "metadata": {},
   "source": [
    "Input Agents"
   ]
  },
  {
   "cell_type": "code",
   "execution_count": null,
   "metadata": {},
   "outputs": [],
   "source": [
    "#play_vs_other_agent(env, agent1=input_agent, agent2=input_agent, render=True)"
   ]
  },
  {
   "cell_type": "markdown",
   "metadata": {},
   "source": [
    "Random Agents"
   ]
  },
  {
   "cell_type": "code",
   "execution_count": 3,
   "metadata": {},
   "outputs": [
    {
     "name": "stdout",
     "output_type": "stream",
     "text": [
      "+-----+-----+-----+-----+-----+-----+-----+-----+-----+-----+\n",
      "|     | 0   | 1   | 2   | 3   | 4   | 5   | 6   | 7   | 8   |\n",
      "+=====+=====+=====+=====+=====+=====+=====+=====+=====+=====+\n",
      "|   0 |     |     |     |     | O   |     |     |     |     |\n",
      "+-----+-----+-----+-----+-----+-----+-----+-----+-----+-----+\n",
      "|   1 |     |     |     | O   | O   | O   |     |     |     |\n",
      "+-----+-----+-----+-----+-----+-----+-----+-----+-----+-----+\n",
      "|   2 |     |     | O   | O   | O   | O   | O   |     |     |\n",
      "+-----+-----+-----+-----+-----+-----+-----+-----+-----+-----+\n",
      "|   3 |     | O   | O   |     | O   | O   | O   | O   |     |\n",
      "+-----+-----+-----+-----+-----+-----+-----+-----+-----+-----+\n",
      "|   4 |     |     | O   | O   | O   | O   | O   | O   | O   |\n",
      "+-----+-----+-----+-----+-----+-----+-----+-----+-----+-----+\n",
      "+-----+-----+-----+-----+-----+-----+-----+-----+-----+-----+\n",
      "|     | 0   | 1   | 2   | 3   | 4   | 5   | 6   | 7   | 8   |\n",
      "+=====+=====+=====+=====+=====+=====+=====+=====+=====+=====+\n",
      "|   0 |     |     |     |     | O   |     |     |     |     |\n",
      "+-----+-----+-----+-----+-----+-----+-----+-----+-----+-----+\n",
      "|   1 |     |     |     | O   | O   | O   |     |     |     |\n",
      "+-----+-----+-----+-----+-----+-----+-----+-----+-----+-----+\n",
      "|   2 |     |     | O   | O   | O   | O   | O   |     |     |\n",
      "+-----+-----+-----+-----+-----+-----+-----+-----+-----+-----+\n",
      "|   3 |     | O   | O   |     | O   | O   | O   | O   |     |\n",
      "+-----+-----+-----+-----+-----+-----+-----+-----+-----+-----+\n",
      "|   4 |     |     | O   | O   | O   | O   | O   | O   |     |\n",
      "+-----+-----+-----+-----+-----+-----+-----+-----+-----+-----+\n",
      "+-----+-----+-----+-----+-----+-----+-----+-----+-----+-----+\n",
      "|     | 0   | 1   | 2   | 3   | 4   | 5   | 6   | 7   | 8   |\n",
      "+=====+=====+=====+=====+=====+=====+=====+=====+=====+=====+\n",
      "|   0 |     |     |     |     | O   |     |     |     |     |\n",
      "+-----+-----+-----+-----+-----+-----+-----+-----+-----+-----+\n",
      "|   1 |     |     |     | O   | O   | O   |     |     |     |\n",
      "+-----+-----+-----+-----+-----+-----+-----+-----+-----+-----+\n",
      "|   2 |     |     | O   | O   | O   | O   | O   |     |     |\n",
      "+-----+-----+-----+-----+-----+-----+-----+-----+-----+-----+\n",
      "|   3 |     | O   | O   |     |     | O   | O   | O   |     |\n",
      "+-----+-----+-----+-----+-----+-----+-----+-----+-----+-----+\n",
      "|   4 |     |     | O   | O   | O   | O   | O   | O   |     |\n",
      "+-----+-----+-----+-----+-----+-----+-----+-----+-----+-----+\n",
      "+-----+-----+-----+-----+-----+-----+-----+-----+-----+-----+\n",
      "|     | 0   | 1   | 2   | 3   | 4   | 5   | 6   | 7   | 8   |\n",
      "+=====+=====+=====+=====+=====+=====+=====+=====+=====+=====+\n",
      "|   0 |     |     |     |     | O   |     |     |     |     |\n",
      "+-----+-----+-----+-----+-----+-----+-----+-----+-----+-----+\n",
      "|   1 |     |     |     | O   | O   | O   |     |     |     |\n",
      "+-----+-----+-----+-----+-----+-----+-----+-----+-----+-----+\n",
      "|   2 |     |     | O   | O   | O   | O   | O   |     |     |\n",
      "+-----+-----+-----+-----+-----+-----+-----+-----+-----+-----+\n",
      "|   3 |     | O   | O   |     |     | O   | O   | O   |     |\n",
      "+-----+-----+-----+-----+-----+-----+-----+-----+-----+-----+\n",
      "|   4 |     |     | O   | O   | O   | O   | O   |     |     |\n",
      "+-----+-----+-----+-----+-----+-----+-----+-----+-----+-----+\n",
      "+-----+-----+-----+-----+-----+-----+-----+-----+-----+-----+\n",
      "|     | 0   | 1   | 2   | 3   | 4   | 5   | 6   | 7   | 8   |\n",
      "+=====+=====+=====+=====+=====+=====+=====+=====+=====+=====+\n",
      "|   0 |     |     |     |     | O   |     |     |     |     |\n",
      "+-----+-----+-----+-----+-----+-----+-----+-----+-----+-----+\n",
      "|   1 |     |     |     | O   | O   | O   |     |     |     |\n",
      "+-----+-----+-----+-----+-----+-----+-----+-----+-----+-----+\n",
      "|   2 |     |     | O   | O   |     |     |     |     |     |\n",
      "+-----+-----+-----+-----+-----+-----+-----+-----+-----+-----+\n",
      "|   3 |     | O   | O   |     |     | O   | O   | O   |     |\n",
      "+-----+-----+-----+-----+-----+-----+-----+-----+-----+-----+\n",
      "|   4 |     |     | O   | O   | O   | O   | O   |     |     |\n",
      "+-----+-----+-----+-----+-----+-----+-----+-----+-----+-----+\n",
      "+-----+-----+-----+-----+-----+-----+-----+-----+-----+-----+\n",
      "|     | 0   | 1   | 2   | 3   | 4   | 5   | 6   | 7   | 8   |\n",
      "+=====+=====+=====+=====+=====+=====+=====+=====+=====+=====+\n",
      "|   0 |     |     |     |     | O   |     |     |     |     |\n",
      "+-----+-----+-----+-----+-----+-----+-----+-----+-----+-----+\n",
      "|   1 |     |     |     | O   | O   | O   |     |     |     |\n",
      "+-----+-----+-----+-----+-----+-----+-----+-----+-----+-----+\n",
      "|   2 |     |     | O   | O   |     |     |     |     |     |\n",
      "+-----+-----+-----+-----+-----+-----+-----+-----+-----+-----+\n",
      "|   3 |     | O   | O   |     |     | O   | O   | O   |     |\n",
      "+-----+-----+-----+-----+-----+-----+-----+-----+-----+-----+\n",
      "|   4 |     |     | O   | O   | O   | O   |     |     |     |\n",
      "+-----+-----+-----+-----+-----+-----+-----+-----+-----+-----+\n",
      "+-----+-----+-----+-----+-----+-----+-----+-----+-----+-----+\n",
      "|     | 0   | 1   | 2   | 3   | 4   | 5   | 6   | 7   | 8   |\n",
      "+=====+=====+=====+=====+=====+=====+=====+=====+=====+=====+\n",
      "|   0 |     |     |     |     | O   |     |     |     |     |\n",
      "+-----+-----+-----+-----+-----+-----+-----+-----+-----+-----+\n",
      "|   1 |     |     |     | O   | O   | O   |     |     |     |\n",
      "+-----+-----+-----+-----+-----+-----+-----+-----+-----+-----+\n",
      "|   2 |     |     | O   | O   |     |     |     |     |     |\n",
      "+-----+-----+-----+-----+-----+-----+-----+-----+-----+-----+\n",
      "|   3 |     | O   | O   |     |     | O   | O   | O   |     |\n",
      "+-----+-----+-----+-----+-----+-----+-----+-----+-----+-----+\n",
      "|   4 |     |     |     |     |     |     |     |     |     |\n",
      "+-----+-----+-----+-----+-----+-----+-----+-----+-----+-----+\n",
      "+-----+-----+-----+-----+-----+-----+-----+-----+-----+-----+\n",
      "|     | 0   | 1   | 2   | 3   | 4   | 5   | 6   | 7   | 8   |\n",
      "+=====+=====+=====+=====+=====+=====+=====+=====+=====+=====+\n",
      "|   0 |     |     |     |     | O   |     |     |     |     |\n",
      "+-----+-----+-----+-----+-----+-----+-----+-----+-----+-----+\n",
      "|   1 |     |     |     | O   | O   | O   |     |     |     |\n",
      "+-----+-----+-----+-----+-----+-----+-----+-----+-----+-----+\n",
      "|   2 |     |     | O   | O   |     |     |     |     |     |\n",
      "+-----+-----+-----+-----+-----+-----+-----+-----+-----+-----+\n",
      "|   3 |     | O   | O   |     |     | O   | O   |     |     |\n",
      "+-----+-----+-----+-----+-----+-----+-----+-----+-----+-----+\n",
      "|   4 |     |     |     |     |     |     |     |     |     |\n",
      "+-----+-----+-----+-----+-----+-----+-----+-----+-----+-----+\n",
      "+-----+-----+-----+-----+-----+-----+-----+-----+-----+-----+\n",
      "|     | 0   | 1   | 2   | 3   | 4   | 5   | 6   | 7   | 8   |\n",
      "+=====+=====+=====+=====+=====+=====+=====+=====+=====+=====+\n",
      "|   0 |     |     |     |     | O   |     |     |     |     |\n",
      "+-----+-----+-----+-----+-----+-----+-----+-----+-----+-----+\n",
      "|   1 |     |     |     | O   | O   | O   |     |     |     |\n",
      "+-----+-----+-----+-----+-----+-----+-----+-----+-----+-----+\n",
      "|   2 |     |     | O   | O   |     |     |     |     |     |\n",
      "+-----+-----+-----+-----+-----+-----+-----+-----+-----+-----+\n",
      "|   3 |     |     |     |     |     | O   | O   |     |     |\n",
      "+-----+-----+-----+-----+-----+-----+-----+-----+-----+-----+\n",
      "|   4 |     |     |     |     |     |     |     |     |     |\n",
      "+-----+-----+-----+-----+-----+-----+-----+-----+-----+-----+\n",
      "+-----+-----+-----+-----+-----+-----+-----+-----+-----+-----+\n",
      "|     | 0   | 1   | 2   | 3   | 4   | 5   | 6   | 7   | 8   |\n",
      "+=====+=====+=====+=====+=====+=====+=====+=====+=====+=====+\n",
      "|   0 |     |     |     |     | O   |     |     |     |     |\n",
      "+-----+-----+-----+-----+-----+-----+-----+-----+-----+-----+\n",
      "|   1 |     |     |     | O   | O   | O   |     |     |     |\n",
      "+-----+-----+-----+-----+-----+-----+-----+-----+-----+-----+\n",
      "|   2 |     |     | O   | O   |     |     |     |     |     |\n",
      "+-----+-----+-----+-----+-----+-----+-----+-----+-----+-----+\n",
      "|   3 |     |     |     |     |     | O   |     |     |     |\n",
      "+-----+-----+-----+-----+-----+-----+-----+-----+-----+-----+\n",
      "|   4 |     |     |     |     |     |     |     |     |     |\n",
      "+-----+-----+-----+-----+-----+-----+-----+-----+-----+-----+\n",
      "+-----+-----+-----+-----+-----+-----+-----+-----+-----+-----+\n",
      "|     | 0   | 1   | 2   | 3   | 4   | 5   | 6   | 7   | 8   |\n",
      "+=====+=====+=====+=====+=====+=====+=====+=====+=====+=====+\n",
      "|   0 |     |     |     |     | O   |     |     |     |     |\n",
      "+-----+-----+-----+-----+-----+-----+-----+-----+-----+-----+\n",
      "|   1 |     |     |     | O   | O   | O   |     |     |     |\n",
      "+-----+-----+-----+-----+-----+-----+-----+-----+-----+-----+\n",
      "|   2 |     |     |     | O   |     |     |     |     |     |\n",
      "+-----+-----+-----+-----+-----+-----+-----+-----+-----+-----+\n",
      "|   3 |     |     |     |     |     | O   |     |     |     |\n",
      "+-----+-----+-----+-----+-----+-----+-----+-----+-----+-----+\n",
      "|   4 |     |     |     |     |     |     |     |     |     |\n",
      "+-----+-----+-----+-----+-----+-----+-----+-----+-----+-----+\n",
      "+-----+-----+-----+-----+-----+-----+-----+-----+-----+-----+\n",
      "|     | 0   | 1   | 2   | 3   | 4   | 5   | 6   | 7   | 8   |\n",
      "+=====+=====+=====+=====+=====+=====+=====+=====+=====+=====+\n",
      "|   0 |     |     |     |     | O   |     |     |     |     |\n",
      "+-----+-----+-----+-----+-----+-----+-----+-----+-----+-----+\n",
      "|   1 |     |     |     | O   | O   | O   |     |     |     |\n",
      "+-----+-----+-----+-----+-----+-----+-----+-----+-----+-----+\n",
      "|   2 |     |     |     | O   |     |     |     |     |     |\n",
      "+-----+-----+-----+-----+-----+-----+-----+-----+-----+-----+\n",
      "|   3 |     |     |     |     |     |     |     |     |     |\n",
      "+-----+-----+-----+-----+-----+-----+-----+-----+-----+-----+\n",
      "|   4 |     |     |     |     |     |     |     |     |     |\n",
      "+-----+-----+-----+-----+-----+-----+-----+-----+-----+-----+\n",
      "+-----+-----+-----+-----+-----+-----+-----+-----+-----+-----+\n",
      "|     | 0   | 1   | 2   | 3   | 4   | 5   | 6   | 7   | 8   |\n",
      "+=====+=====+=====+=====+=====+=====+=====+=====+=====+=====+\n",
      "|   0 |     |     |     |     | O   |     |     |     |     |\n",
      "+-----+-----+-----+-----+-----+-----+-----+-----+-----+-----+\n",
      "|   1 |     |     |     |     |     | O   |     |     |     |\n",
      "+-----+-----+-----+-----+-----+-----+-----+-----+-----+-----+\n",
      "|   2 |     |     |     | O   |     |     |     |     |     |\n",
      "+-----+-----+-----+-----+-----+-----+-----+-----+-----+-----+\n",
      "|   3 |     |     |     |     |     |     |     |     |     |\n",
      "+-----+-----+-----+-----+-----+-----+-----+-----+-----+-----+\n",
      "|   4 |     |     |     |     |     |     |     |     |     |\n",
      "+-----+-----+-----+-----+-----+-----+-----+-----+-----+-----+\n",
      "+-----+-----+-----+-----+-----+-----+-----+-----+-----+-----+\n",
      "|     | 0   | 1   | 2   | 3   | 4   | 5   | 6   | 7   | 8   |\n",
      "+=====+=====+=====+=====+=====+=====+=====+=====+=====+=====+\n",
      "|   0 |     |     |     |     | O   |     |     |     |     |\n",
      "+-----+-----+-----+-----+-----+-----+-----+-----+-----+-----+\n",
      "|   1 |     |     |     |     |     | O   |     |     |     |\n",
      "+-----+-----+-----+-----+-----+-----+-----+-----+-----+-----+\n",
      "|   2 |     |     |     |     |     |     |     |     |     |\n",
      "+-----+-----+-----+-----+-----+-----+-----+-----+-----+-----+\n",
      "|   3 |     |     |     |     |     |     |     |     |     |\n",
      "+-----+-----+-----+-----+-----+-----+-----+-----+-----+-----+\n",
      "|   4 |     |     |     |     |     |     |     |     |     |\n",
      "+-----+-----+-----+-----+-----+-----+-----+-----+-----+-----+\n",
      "+-----+-----+-----+-----+-----+-----+-----+-----+-----+-----+\n",
      "|     | 0   | 1   | 2   | 3   | 4   | 5   | 6   | 7   | 8   |\n",
      "+=====+=====+=====+=====+=====+=====+=====+=====+=====+=====+\n",
      "|   0 |     |     |     |     | O   |     |     |     |     |\n",
      "+-----+-----+-----+-----+-----+-----+-----+-----+-----+-----+\n",
      "|   1 |     |     |     |     |     |     |     |     |     |\n",
      "+-----+-----+-----+-----+-----+-----+-----+-----+-----+-----+\n",
      "|   2 |     |     |     |     |     |     |     |     |     |\n",
      "+-----+-----+-----+-----+-----+-----+-----+-----+-----+-----+\n",
      "|   3 |     |     |     |     |     |     |     |     |     |\n",
      "+-----+-----+-----+-----+-----+-----+-----+-----+-----+-----+\n",
      "|   4 |     |     |     |     |     |     |     |     |     |\n",
      "+-----+-----+-----+-----+-----+-----+-----+-----+-----+-----+\n"
     ]
    },
    {
     "data": {
      "text/plain": [
       "2"
      ]
     },
     "execution_count": 3,
     "metadata": {},
     "output_type": "execute_result"
    }
   ],
   "source": [
    "\n",
    "agent1 = Minimax_agent(1)\n",
    "play_vs_other_agent(env, agent1, agent2=RandomAgent(2), render=True)"
   ]
  },
  {
   "cell_type": "markdown",
   "metadata": {},
   "source": [
    "Random Agent vs UONI (Universal Optimization Neural Interface)"
   ]
  },
  {
   "cell_type": "code",
   "execution_count": 4,
   "metadata": {},
   "outputs": [],
   "source": [
    "import matplotlib.pyplot as plt\n",
    "# Assuming ws is a list of winners\n",
    "def print_graph(ws, level):\n",
    "    winners = [\"UONI\", \"OTHER\"]\n",
    "    win_counts = [ws.count(x) for x in [1,2]]\n",
    "\n",
    "    plt.bar(winners, win_counts)\n",
    "    plt.xlabel('Winner Number ' + level)\n",
    "    plt.ylabel('Win Amount')\n",
    "    plt.title('Win Amount per Winner')\n",
    "    plt.show()"
   ]
  },
  {
   "cell_type": "code",
   "execution_count": 5,
   "metadata": {},
   "outputs": [
    {
     "name": "stderr",
     "output_type": "stream",
     "text": [
      "100%|██████████| 2/2 [08:56<00:00, 268.45s/it]\n"
     ]
    },
    {
     "data": {
      "image/png": "[encoded data removed]",
      "text/plain": [
       "<Figure size 640x480 with 1 Axes>"
      ]
     },
     "metadata": {},
     "output_type": "display_data"
    }
   ],
   "source": [
    "from tqdm import tqdm\n",
    "\n",
    "ws = {'easy':[], 'medium':[], 'hard':[]}\n",
    "for level in ['easy', 'medium', 'hard']:\n",
    "    for i in tqdm(range(2)):\n",
    "        if i%2 == 0:\n",
    "            ws[level].append(play_vs_other_agent(env, agent1=UONI(1, level), agent2=Minimax_agent(2), render=False))\n",
    "        else:\n",
    "            ws[level].append(3-play_vs_other_agent(env, agent1=Minimax_agent(1), agent2=UONI(2, level), render=False))\n",
    "    print_graph(ws[level], level)"
   ]
  }
 ],
 "metadata": {
  "kernelspec": {
   "display_name": "Python 3",
   "language": "python",
   "name": "python3"
  },
  "language_info": {
   "codemirror_mode": {
    "name": "ipython",
    "version": 3
   },
   "file_extension": ".py",
   "mimetype": "text/x-python",
   "name": "python",
   "nbconvert_exporter": "python",
   "pygments_lexer": "ipython3",
   "version": "3.12.2"
  }
 },
 "nbformat": 4,
 "nbformat_minor": 2
}
